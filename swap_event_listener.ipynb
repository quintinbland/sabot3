{
 "cells": [
  {
   "cell_type": "markdown",
   "id": "afbefe1b-68b3-45b0-8574-7ddc6e644904",
   "metadata": {},
   "source": [
    "# SabotSwap\n",
    "\n",
    "This notebook demonstrates the sabot bot calling the **swap** transaction and listening for the SabotSwap event"
   ]
  },
  {
   "cell_type": "code",
   "execution_count": 1,
   "id": "b7c4d6cf-7f52-4c9a-a7da-f2fcf2767878",
   "metadata": {},
   "outputs": [],
   "source": [
    "from web3 import Web3\n",
    "from crypto_wallet import generate_account, get_balance,send_transaction\n",
    "w3 = Web3(Web3.HTTPProvider('HTTP://127.0.0.1:7545'))\n",
    "import json\n",
    "from pathlib import Path"
   ]
  },
  {
   "cell_type": "code",
   "execution_count": 2,
   "id": "4765db4d-40db-415b-a486-ca3aba750b27",
   "metadata": {},
   "outputs": [
    {
     "data": {
      "text/plain": [
       "<eth_account.signers.local.LocalAccount at 0x7fae12f0a150>"
      ]
     },
     "execution_count": 2,
     "metadata": {},
     "output_type": "execute_result"
    }
   ],
   "source": [
    "account = generate_account()\n",
    "account"
   ]
  },
  {
   "cell_type": "code",
   "execution_count": 3,
   "id": "d81dadb8-5d6d-4002-adad-a2eba1271c6a",
   "metadata": {},
   "outputs": [],
   "source": [
    "sellToken='0x04324f495a27fa08d5E8CC3F01178F55C46D53bf'\n",
    "sellTokenAmount=100000000000\n",
    "buyToken='0x6e8d8c332fAF8b71E312F5377D9dd94baDE0d744'"
   ]
  },
  {
   "cell_type": "code",
   "execution_count": 12,
   "id": "819c93cf-d952-4b0d-9bbe-a5aa236b5861",
   "metadata": {},
   "outputs": [],
   "source": [
    "with open(Path('SabotSwapAbi.json'),'r') as abi_file:\n",
    "    abi = json.load(abi_file)\n",
    "\n",
    "contract_address = '0x02c6eADE15a8a186280f7d390632f254b1AeB53F'\n",
    "   \n",
    "contract = w3.eth.contract(address = contract_address , abi = abi)"
   ]
  },
  {
   "cell_type": "code",
   "execution_count": 17,
   "id": "55146b05-06a1-4ccc-80a3-da31a797f0f4",
   "metadata": {},
   "outputs": [
    {
     "data": {
      "text/plain": [
       "126"
      ]
     },
     "execution_count": 17,
     "metadata": {},
     "output_type": "execute_result"
    }
   ],
   "source": [
    "contract.functions.balance().call() "
   ]
  },
  {
   "cell_type": "code",
   "execution_count": 18,
   "id": "c961c2e2-c653-45fe-b88b-be17f3f79314",
   "metadata": {},
   "outputs": [
    {
     "data": {
      "text/plain": [
       "'0x44F78e2DC3d42f6f380a6E0fBe3B95AE9BfBc23C'"
      ]
     },
     "execution_count": 18,
     "metadata": {},
     "output_type": "execute_result"
    }
   ],
   "source": [
    "account.address"
   ]
  },
  {
   "cell_type": "code",
   "execution_count": 19,
   "id": "8ef2ea8c-62bd-44e1-adc5-6fa4fcf1590a",
   "metadata": {},
   "outputs": [
    {
     "data": {
      "text/plain": [
       "HexBytes('0x50f34597328bcd08d5d2cbcbc44b92ce97c0cbda35288b30fdfec771d54e12ae')"
      ]
     },
     "execution_count": 19,
     "metadata": {},
     "output_type": "execute_result"
    }
   ],
   "source": [
    "contract.functions.swap(sellToken, sellTokenAmount, buyToken).transact({'from': account.address , 'gas': 3000000})"
   ]
  },
  {
   "cell_type": "code",
   "execution_count": null,
   "id": "3bc23246-3bd5-412d-b9aa-8e9c75e61a32",
   "metadata": {},
   "outputs": [],
   "source": []
  }
 ],
 "metadata": {
  "kernelspec": {
   "display_name": "Python 3 (ipykernel)",
   "language": "python",
   "name": "python3"
  },
  "language_info": {
   "codemirror_mode": {
    "name": "ipython",
    "version": 3
   },
   "file_extension": ".py",
   "mimetype": "text/x-python",
   "name": "python",
   "nbconvert_exporter": "python",
   "pygments_lexer": "ipython3",
   "version": "3.7.11"
  },
  "vscode": {
   "interpreter": {
    "hash": "e9706e2b979a409812944fd4a0384c92c020042a42e01b3b75954b474c5de965"
   }
  }
 },
 "nbformat": 4,
 "nbformat_minor": 5
}
