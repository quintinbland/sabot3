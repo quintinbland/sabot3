{
 "cells": [
  {
   "cell_type": "markdown",
   "id": "743380cb-969c-4bb3-989f-0bc1f6f9278c",
   "metadata": {
    "tags": []
   },
   "source": [
    "# Sabot Bot Script\n",
    "* Create pnemonic in .env file\n",
    "* Generate bot wallet in .env file\n",
    "* Path to abi\n",
    "* Call to Swap"
   ]
  },
  {
   "cell_type": "code",
   "execution_count": 1,
   "id": "e5a78104-cf2a-4e27-87d7-52ffe1073a11",
   "metadata": {},
   "outputs": [],
   "source": [
    "from crypto_wallet import *\n",
    "from pathlib import Path"
   ]
  },
  {
   "cell_type": "code",
   "execution_count": 2,
   "id": "7fa26d59-e2f3-406f-b1f5-bc07545be62c",
   "metadata": {},
   "outputs": [
    {
     "data": {
      "text/plain": [
       "({'wallet_1': {'account': <eth_account.signers.local.LocalAccount at 0x24b50783f88>,\n",
       "   'address': '0xd40CB2d88Ae8b87C5316409bAC8C2eb32F52cf64'},\n",
       "  'wallet_2': {'account': <eth_account.signers.local.LocalAccount at 0x24b50a8a9c8>,\n",
       "   'address': '0x1353f81D9237b1794Ea9DB1a14456930c42E449A'},\n",
       "  'wallet_3': {'account': <eth_account.signers.local.LocalAccount at 0x24b50a8a408>,\n",
       "   'address': '0x239a469ECe7bF12cc7aE00df4a9A021CeeB880E4'},\n",
       "  'bot_wallet': {'account': <eth_account.signers.local.LocalAccount at 0x24b50b95e88>,\n",
       "   'address': '0xddBe6dF0689F4380c2Fb76398Cf9264A8353Ec59'}},\n",
       " [{'inputs': [{'internalType': 'string', 'name': '_version', 'type': 'string'},\n",
       "    {'internalType': 'address', 'name': 'botWalletAddress', 'type': 'address'},\n",
       "    {'internalType': 'address', 'name': '_baseToken', 'type': 'address'},\n",
       "    {'internalType': 'address', 'name': '_targetToken', 'type': 'address'},\n",
       "    {'internalType': 'address', 'name': '_curvePoolAddr', 'type': 'address'},\n",
       "    {'internalType': 'int128', 'name': 'baseTokenIndex', 'type': 'int128'},\n",
       "    {'internalType': 'int128', 'name': 'targetTokenIndex', 'type': 'int128'}],\n",
       "   'stateMutability': 'nonpayable',\n",
       "   'type': 'constructor'},\n",
       "  {'anonymous': False,\n",
       "   'inputs': [{'indexed': False,\n",
       "     'internalType': 'address',\n",
       "     'name': 'owner',\n",
       "     'type': 'address'},\n",
       "    {'indexed': False,\n",
       "     'internalType': 'address',\n",
       "     'name': 'utilityToken',\n",
       "     'type': 'address'},\n",
       "    {'indexed': False,\n",
       "     'internalType': 'uint256',\n",
       "     'name': 'utilityTokenAmount',\n",
       "     'type': 'uint256'}],\n",
       "   'name': 'Burned',\n",
       "   'type': 'event'},\n",
       "  {'anonymous': False,\n",
       "   'inputs': [{'indexed': False,\n",
       "     'internalType': 'address',\n",
       "     'name': 'owner',\n",
       "     'type': 'address'},\n",
       "    {'indexed': False,\n",
       "     'internalType': 'address',\n",
       "     'name': 'utilityToken',\n",
       "     'type': 'address'},\n",
       "    {'indexed': False,\n",
       "     'internalType': 'uint256',\n",
       "     'name': 'utilityTokenAmount',\n",
       "     'type': 'uint256'}],\n",
       "   'name': 'Minted',\n",
       "   'type': 'event'},\n",
       "  {'anonymous': False,\n",
       "   'inputs': [{'indexed': True,\n",
       "     'internalType': 'bytes32',\n",
       "     'name': 'role',\n",
       "     'type': 'bytes32'},\n",
       "    {'indexed': True,\n",
       "     'internalType': 'bytes32',\n",
       "     'name': 'previousAdminRole',\n",
       "     'type': 'bytes32'},\n",
       "    {'indexed': True,\n",
       "     'internalType': 'bytes32',\n",
       "     'name': 'newAdminRole',\n",
       "     'type': 'bytes32'}],\n",
       "   'name': 'RoleAdminChanged',\n",
       "   'type': 'event'},\n",
       "  {'anonymous': False,\n",
       "   'inputs': [{'indexed': True,\n",
       "     'internalType': 'bytes32',\n",
       "     'name': 'role',\n",
       "     'type': 'bytes32'},\n",
       "    {'indexed': True,\n",
       "     'internalType': 'address',\n",
       "     'name': 'account',\n",
       "     'type': 'address'},\n",
       "    {'indexed': True,\n",
       "     'internalType': 'address',\n",
       "     'name': 'sender',\n",
       "     'type': 'address'}],\n",
       "   'name': 'RoleGranted',\n",
       "   'type': 'event'},\n",
       "  {'anonymous': False,\n",
       "   'inputs': [{'indexed': True,\n",
       "     'internalType': 'bytes32',\n",
       "     'name': 'role',\n",
       "     'type': 'bytes32'},\n",
       "    {'indexed': True,\n",
       "     'internalType': 'address',\n",
       "     'name': 'account',\n",
       "     'type': 'address'},\n",
       "    {'indexed': True,\n",
       "     'internalType': 'address',\n",
       "     'name': 'sender',\n",
       "     'type': 'address'}],\n",
       "   'name': 'RoleRevoked',\n",
       "   'type': 'event'},\n",
       "  {'anonymous': False,\n",
       "   'inputs': [{'indexed': False,\n",
       "     'internalType': 'address',\n",
       "     'name': 'owner',\n",
       "     'type': 'address'},\n",
       "    {'indexed': False,\n",
       "     'internalType': 'address',\n",
       "     'name': 'sellToken',\n",
       "     'type': 'address'},\n",
       "    {'indexed': False,\n",
       "     'internalType': 'uint256',\n",
       "     'name': 'sellTokenAmount',\n",
       "     'type': 'uint256'},\n",
       "    {'indexed': False,\n",
       "     'internalType': 'address',\n",
       "     'name': 'utilityToken',\n",
       "     'type': 'address'},\n",
       "    {'indexed': False,\n",
       "     'internalType': 'uint256',\n",
       "     'name': 'utilityTokenAmount',\n",
       "     'type': 'uint256'}],\n",
       "   'name': 'Staked',\n",
       "   'type': 'event'},\n",
       "  {'anonymous': False,\n",
       "   'inputs': [{'indexed': True,\n",
       "     'internalType': 'address',\n",
       "     'name': 'sellToken',\n",
       "     'type': 'address'},\n",
       "    {'indexed': False,\n",
       "     'internalType': 'uint256',\n",
       "     'name': 'sellTokenAmount',\n",
       "     'type': 'uint256'},\n",
       "    {'indexed': False,\n",
       "     'internalType': 'address',\n",
       "     'name': 'buyToken',\n",
       "     'type': 'address'}],\n",
       "   'name': 'Swapped',\n",
       "   'type': 'event'},\n",
       "  {'anonymous': False,\n",
       "   'inputs': [{'indexed': False,\n",
       "     'internalType': 'address',\n",
       "     'name': 'owner',\n",
       "     'type': 'address'},\n",
       "    {'indexed': False,\n",
       "     'internalType': 'address',\n",
       "     'name': 'buyToken',\n",
       "     'type': 'address'},\n",
       "    {'indexed': False,\n",
       "     'internalType': 'uint256',\n",
       "     'name': 'buyTokenAmount',\n",
       "     'type': 'uint256'},\n",
       "    {'indexed': False,\n",
       "     'internalType': 'address',\n",
       "     'name': 'utilityToken',\n",
       "     'type': 'address'},\n",
       "    {'indexed': False,\n",
       "     'internalType': 'uint256',\n",
       "     'name': 'utilityTokenAmount',\n",
       "     'type': 'uint256'}],\n",
       "   'name': 'Unstaked',\n",
       "   'type': 'event'},\n",
       "  {'inputs': [],\n",
       "   'name': 'DEFAULT_ADMIN_ROLE',\n",
       "   'outputs': [{'internalType': 'bytes32', 'name': '', 'type': 'bytes32'}],\n",
       "   'stateMutability': 'view',\n",
       "   'type': 'function'},\n",
       "  {'inputs': [],\n",
       "   'name': 'SABOT_BOT_ROLE',\n",
       "   'outputs': [{'internalType': 'bytes32', 'name': '', 'type': 'bytes32'}],\n",
       "   'stateMutability': 'view',\n",
       "   'type': 'function'},\n",
       "  {'inputs': [],\n",
       "   'name': 'UPGRADER_ROLE',\n",
       "   'outputs': [{'internalType': 'bytes32', 'name': '', 'type': 'bytes32'}],\n",
       "   'stateMutability': 'view',\n",
       "   'type': 'function'},\n",
       "  {'inputs': [],\n",
       "   'name': 'baseToken',\n",
       "   'outputs': [{'internalType': 'address', 'name': '', 'type': 'address'}],\n",
       "   'stateMutability': 'view',\n",
       "   'type': 'function'},\n",
       "  {'inputs': [],\n",
       "   'name': 'curvePoolAddr',\n",
       "   'outputs': [{'internalType': 'address', 'name': '', 'type': 'address'}],\n",
       "   'stateMutability': 'view',\n",
       "   'type': 'function'},\n",
       "  {'inputs': [],\n",
       "   'name': 'getPortfolioValue',\n",
       "   'outputs': [{'internalType': 'uint256', 'name': '', 'type': 'uint256'}],\n",
       "   'stateMutability': 'view',\n",
       "   'type': 'function'},\n",
       "  {'inputs': [{'internalType': 'bytes32', 'name': 'role', 'type': 'bytes32'}],\n",
       "   'name': 'getRoleAdmin',\n",
       "   'outputs': [{'internalType': 'bytes32', 'name': '', 'type': 'bytes32'}],\n",
       "   'stateMutability': 'view',\n",
       "   'type': 'function'},\n",
       "  {'inputs': [{'internalType': 'bytes32', 'name': 'role', 'type': 'bytes32'},\n",
       "    {'internalType': 'address', 'name': 'account', 'type': 'address'}],\n",
       "   'name': 'grantRole',\n",
       "   'outputs': [],\n",
       "   'stateMutability': 'nonpayable',\n",
       "   'type': 'function'},\n",
       "  {'inputs': [{'internalType': 'bytes32', 'name': 'role', 'type': 'bytes32'},\n",
       "    {'internalType': 'address', 'name': 'account', 'type': 'address'}],\n",
       "   'name': 'hasRole',\n",
       "   'outputs': [{'internalType': 'bool', 'name': '', 'type': 'bool'}],\n",
       "   'stateMutability': 'view',\n",
       "   'type': 'function'},\n",
       "  {'inputs': [],\n",
       "   'name': 'name',\n",
       "   'outputs': [{'internalType': 'string', 'name': '', 'type': 'string'}],\n",
       "   'stateMutability': 'view',\n",
       "   'type': 'function'},\n",
       "  {'inputs': [{'internalType': 'bytes32', 'name': 'role', 'type': 'bytes32'},\n",
       "    {'internalType': 'address', 'name': 'account', 'type': 'address'}],\n",
       "   'name': 'renounceRole',\n",
       "   'outputs': [],\n",
       "   'stateMutability': 'nonpayable',\n",
       "   'type': 'function'},\n",
       "  {'inputs': [{'internalType': 'bytes32', 'name': 'role', 'type': 'bytes32'},\n",
       "    {'internalType': 'address', 'name': 'account', 'type': 'address'}],\n",
       "   'name': 'revokeRole',\n",
       "   'outputs': [],\n",
       "   'stateMutability': 'nonpayable',\n",
       "   'type': 'function'},\n",
       "  {'inputs': [{'internalType': 'address', 'name': 'token', 'type': 'address'}],\n",
       "   'name': 'setUtilityToken',\n",
       "   'outputs': [],\n",
       "   'stateMutability': 'nonpayable',\n",
       "   'type': 'function'},\n",
       "  {'inputs': [{'internalType': 'uint256',\n",
       "     'name': '_amount',\n",
       "     'type': 'uint256'},\n",
       "    {'internalType': 'address', 'name': 'token', 'type': 'address'}],\n",
       "   'name': 'stakeTokens',\n",
       "   'outputs': [],\n",
       "   'stateMutability': 'nonpayable',\n",
       "   'type': 'function'},\n",
       "  {'inputs': [{'internalType': 'bytes4',\n",
       "     'name': 'interfaceId',\n",
       "     'type': 'bytes4'}],\n",
       "   'name': 'supportsInterface',\n",
       "   'outputs': [{'internalType': 'bool', 'name': '', 'type': 'bool'}],\n",
       "   'stateMutability': 'view',\n",
       "   'type': 'function'},\n",
       "  {'inputs': [{'internalType': 'address',\n",
       "     'name': 'sellToken',\n",
       "     'type': 'address'},\n",
       "    {'internalType': 'uint256', 'name': 'sellTokenAmount', 'type': 'uint256'},\n",
       "    {'internalType': 'address', 'name': 'buyToken', 'type': 'address'}],\n",
       "   'name': 'swap',\n",
       "   'outputs': [],\n",
       "   'stateMutability': 'nonpayable',\n",
       "   'type': 'function'},\n",
       "  {'inputs': [],\n",
       "   'name': 'targetToken',\n",
       "   'outputs': [{'internalType': 'address', 'name': '', 'type': 'address'}],\n",
       "   'stateMutability': 'view',\n",
       "   'type': 'function'},\n",
       "  {'inputs': [{'internalType': 'uint256',\n",
       "     'name': '_amount',\n",
       "     'type': 'uint256'},\n",
       "    {'internalType': 'address', 'name': 'token', 'type': 'address'}],\n",
       "   'name': 'unstakeTokens',\n",
       "   'outputs': [],\n",
       "   'stateMutability': 'nonpayable',\n",
       "   'type': 'function'},\n",
       "  {'inputs': [],\n",
       "   'name': 'utilityToken',\n",
       "   'outputs': [{'internalType': 'address', 'name': '', 'type': 'address'}],\n",
       "   'stateMutability': 'view',\n",
       "   'type': 'function'},\n",
       "  {'inputs': [],\n",
       "   'name': 'version',\n",
       "   'outputs': [{'internalType': 'string', 'name': '', 'type': 'string'}],\n",
       "   'stateMutability': 'view',\n",
       "   'type': 'function'}],\n",
       " '0x9Bf4B7e7F91fE3054071eCaFC4100b566EBf5f26')"
      ]
     },
     "execution_count": 2,
     "metadata": {},
     "output_type": "execute_result"
    }
   ],
   "source": [
    "sabot_swap()"
   ]
  },
  {
   "cell_type": "code",
   "execution_count": null,
   "id": "2dbd2b21-5eea-4333-b0db-2df1947b5481",
   "metadata": {},
   "outputs": [],
   "source": []
  },
  {
   "cell_type": "code",
   "execution_count": 4,
   "id": "76d70cfe-09a2-4401-a25a-1a2c75f6234d",
   "metadata": {},
   "outputs": [],
   "source": [
    "# @TODO : Externalize http address in .env\n",
    "\n",
    "w3 = connect_RPC_server()\n",
    "w3.eth.setGasPriceStrategy(medium_gas_price_strategy)"
   ]
  },
  {
   "cell_type": "code",
   "execution_count": 5,
   "id": "17bfd4f8-825d-4451-8bc8-d690f0e3fb2c",
   "metadata": {},
   "outputs": [
    {
     "data": {
      "text/plain": [
       "{'wallet_1': {'account': <eth_account.signers.local.LocalAccount at 0x1feed5e3ac8>,\n",
       "  'address': '0xd40CB2d88Ae8b87C5316409bAC8C2eb32F52cf64'},\n",
       " 'wallet_2': {'account': <eth_account.signers.local.LocalAccount at 0x1feed5bf788>,\n",
       "  'address': '0x1353f81D9237b1794Ea9DB1a14456930c42E449A'},\n",
       " 'wallet_3': {'account': <eth_account.signers.local.LocalAccount at 0x1feed5bf648>,\n",
       "  'address': '0x239a469ECe7bF12cc7aE00df4a9A021CeeB880E4'},\n",
       " 'bot_wallet': {'account': <eth_account.signers.local.LocalAccount at 0x1feed5ca4c8>,\n",
       "  'address': '0xddBe6dF0689F4380c2Fb76398Cf9264A8353Ec59'}}"
      ]
     },
     "execution_count": 5,
     "metadata": {},
     "output_type": "execute_result"
    }
   ],
   "source": [
    "gen_wallets()"
   ]
  },
  {
   "cell_type": "code",
   "execution_count": null,
   "id": "5bbd89b2-6dd1-4185-bae9-d4999f6b382f",
   "metadata": {},
   "outputs": [],
   "source": []
  },
  {
   "cell_type": "code",
   "execution_count": 6,
   "id": "b106de30-b02c-42d3-93db-d0ad3220b809",
   "metadata": {},
   "outputs": [],
   "source": [
    "nemo = mnemonic_generator()"
   ]
  },
  {
   "cell_type": "code",
   "execution_count": 7,
   "id": "efc4684a-bc3f-450e-8967-737327c4b9cc",
   "metadata": {},
   "outputs": [],
   "source": [
    "wallet = Wallet(nemo)"
   ]
  },
  {
   "cell_type": "code",
   "execution_count": 8,
   "id": "8f6e8e88-2c11-4258-8d9a-0fb38927a6a9",
   "metadata": {},
   "outputs": [],
   "source": [
    "wal_1_private,wal_1_public = wallet.derive_account('eth',0,0,0)"
   ]
  },
  {
   "cell_type": "code",
   "execution_count": 9,
   "id": "1ad60b53-0669-4724-b720-d94b543d0b29",
   "metadata": {},
   "outputs": [],
   "source": [
    "wallet_1_admin = Account.privateKeyToAccount(wal_1_private).address"
   ]
  },
  {
   "cell_type": "code",
   "execution_count": 10,
   "id": "5f2b05c3-9686-4475-8200-c49348997212",
   "metadata": {},
   "outputs": [],
   "source": [
    "wallet_1_admin_account = Account.privateKeyToAccount(wal_1_private)"
   ]
  },
  {
   "cell_type": "code",
   "execution_count": 11,
   "id": "d8cca4de-7b9e-432d-9c84-335d61e258ee",
   "metadata": {},
   "outputs": [
    {
     "data": {
      "text/plain": [
       "<eth_account.signers.local.LocalAccount at 0x1d27ea5bb48>"
      ]
     },
     "execution_count": 11,
     "metadata": {},
     "output_type": "execute_result"
    }
   ],
   "source": [
    "wallet_1_admin_account"
   ]
  },
  {
   "cell_type": "code",
   "execution_count": 9,
   "id": "1a2ed832-e765-4fd6-97be-5180abc80032",
   "metadata": {},
   "outputs": [
    {
     "data": {
      "text/plain": [
       "'0xd40CB2d88Ae8b87C5316409bAC8C2eb32F52cf64'"
      ]
     },
     "execution_count": 9,
     "metadata": {},
     "output_type": "execute_result"
    }
   ],
   "source": [
    "wallet_1_admin"
   ]
  },
  {
   "cell_type": "code",
   "execution_count": 10,
   "id": "53cfe960-8dc3-473d-bafe-df4e1f088eee",
   "metadata": {},
   "outputs": [],
   "source": [
    "wal_2_private,wal_2_public = wallet.derive_account('eth',0,0,1)\n",
    "wallet_2_user = Account.privateKeyToAccount(wal_2_private).address"
   ]
  },
  {
   "cell_type": "code",
   "execution_count": 11,
   "id": "59f77a02-ee77-4c3d-a8ee-ad94a1dedd92",
   "metadata": {},
   "outputs": [
    {
     "data": {
      "text/plain": [
       "'0x1353f81D9237b1794Ea9DB1a14456930c42E449A'"
      ]
     },
     "execution_count": 11,
     "metadata": {},
     "output_type": "execute_result"
    }
   ],
   "source": [
    "wallet_2_user"
   ]
  },
  {
   "cell_type": "code",
   "execution_count": 12,
   "id": "edda962a-ef45-4363-a19b-86d58b318acc",
   "metadata": {},
   "outputs": [],
   "source": [
    "wal_3_private,wal_3_public = wallet.derive_account('eth',0,0,2)\n",
    "wallet_3_user = Account.privateKeyToAccount(wal_3_private).address"
   ]
  },
  {
   "cell_type": "code",
   "execution_count": 13,
   "id": "9c9a61f5-eb14-412a-82a9-82de76416dbe",
   "metadata": {},
   "outputs": [
    {
     "data": {
      "text/plain": [
       "'0x239a469ECe7bF12cc7aE00df4a9A021CeeB880E4'"
      ]
     },
     "execution_count": 13,
     "metadata": {},
     "output_type": "execute_result"
    }
   ],
   "source": [
    "wallet_3_user"
   ]
  },
  {
   "cell_type": "code",
   "execution_count": 14,
   "id": "daa6a2ce-73c6-47dd-8101-16ef8dd5fc54",
   "metadata": {},
   "outputs": [],
   "source": [
    "bot_private,bot_public = wallet.derive_account('eth',0,0,4)\n",
    "bot_wallet = Account.privateKeyToAccount(bot_private).address"
   ]
  },
  {
   "cell_type": "code",
   "execution_count": 15,
   "id": "47f1021b-761f-4457-a8d2-ce93d4f8bfe1",
   "metadata": {},
   "outputs": [
    {
     "data": {
      "text/plain": [
       "'0x4b4ABb1F664a45BbD7988A4E065aC2eBd377d86a'"
      ]
     },
     "execution_count": 15,
     "metadata": {},
     "output_type": "execute_result"
    }
   ],
   "source": [
    "bot_wallet"
   ]
  },
  {
   "cell_type": "code",
   "execution_count": 16,
   "id": "0287b8d3-bacb-40c7-878f-d08561a5bb6f",
   "metadata": {},
   "outputs": [
    {
     "data": {
      "text/plain": [
       "'C:\\\\Users\\\\compu\\\\OneDrive\\\\Desktop\\\\FinTech-Workspace\\\\Project_3\\\\sabot3\\\\Analysis'"
      ]
     },
     "execution_count": 16,
     "metadata": {},
     "output_type": "execute_result"
    }
   ],
   "source": [
    "pwd"
   ]
  },
  {
   "cell_type": "code",
   "execution_count": 17,
   "id": "8fc362bd-1614-410c-bb5a-d59467713041",
   "metadata": {},
   "outputs": [],
   "source": [
    "with open(Path('../Test/CurvePool.json'),'r') as abi_file:\n",
    "    abi = json.load(abi_file)\n",
    "\n",
    "with open(Path('../Test/CurvePool-byte.json')) as bytecode_file:\n",
    "    bytecode2 = json.load(bytecode_file)\n",
    "\n",
    "    \n",
    "    \n",
    "bytecode = bytes(bytecode2['object'].encode(\"UTF-16\"))\n",
    "    \n",
    "CurvePoolContract = w3.eth.contract(abi=abi,bytecode=bytecode)"
   ]
  },
  {
   "cell_type": "code",
   "execution_count": 18,
   "id": "b66d4bc6-674c-4f14-ab86-d2e2c783d6eb",
   "metadata": {},
   "outputs": [
    {
     "data": {
      "text/plain": [
       "web3._utils.datatypes.Contract"
      ]
     },
     "execution_count": 18,
     "metadata": {},
     "output_type": "execute_result"
    }
   ],
   "source": [
    "CurvePoolContract"
   ]
  },
  {
   "cell_type": "code",
   "execution_count": 19,
   "id": "8dc08ff0-bdeb-4301-9b4a-983bf08c371c",
   "metadata": {},
   "outputs": [
    {
     "data": {
      "text/plain": [
       "0"
      ]
     },
     "execution_count": 19,
     "metadata": {},
     "output_type": "execute_result"
    }
   ],
   "source": [
    "w3.eth.generate_gas_price()"
   ]
  },
  {
   "cell_type": "code",
   "execution_count": 20,
   "id": "81065c3f-b722-48fc-9618-8f98acc8e773",
   "metadata": {
    "tags": []
   },
   "outputs": [
    {
     "data": {
      "text/plain": [
       "HexBytes('0x65794cfdc2d9fb441ddb9f9d9f767203d806fdcf7427d6f26059c498afa1e2e3')"
      ]
     },
     "execution_count": 20,
     "metadata": {},
     "output_type": "execute_result"
    }
   ],
   "source": [
    "send_transaction(w3,wallet_1_admin_account,wallet_2_user,1)"
   ]
  },
  {
   "cell_type": "code",
   "execution_count": 21,
   "id": "fad50d72-5358-454c-8a02-f722a660b710",
   "metadata": {},
   "outputs": [],
   "source": [
    "construct_txn = CurvePoolContract.constructor(\"1\",'[\"0x753f95da5E01A463c0952F81C3a4366e405019b1\",\"0x59fe7E0c4303125Ee5e1fA6248723BF017668835\",\"0x5771e5c030Aa3594E3385eBcdC2c3ea50A27a24f\"]').buildTransaction(\n",
    "    {\n",
    "        'from': wallet_2_user,\n",
    "        'nonce': w3.eth.get_transaction_count(wallet_2_user),\n",
    "        'gasPrice':400000000000000000000,\n",
    "        'gas':400000000000000000000,\n",
    "        'value':w3.toWei('0','ether')\n",
    "    }\n",
    ")\n",
    "\n",
    "# 6. Sign tx with PK\n",
    "tx_create = w3.eth.account.sign_transaction(construct_txn, wal_2_private)\n",
    "\n",
    "# 7. Send tx and wait for receipt\n",
    "# tx_hash = w3.eth.send_raw_transaction(tx_create.rawTransaction)\n",
    "# tx_receipt = w3.eth.wait_for_transaction_receipt(tx_hash)\n",
    "\n",
    "# print(f'Contract deployed at address: { tx_receipt.contractAddress }')"
   ]
  },
  {
   "cell_type": "code",
   "execution_count": 22,
   "id": "49969d38-cdb5-4d44-90c4-90c8ef754cae",
   "metadata": {},
   "outputs": [
    {
     "ename": "ValueError",
     "evalue": "{'message': 'Number can only safely store up to 53 bits', 'code': -32000, 'data': {'stack': 'Error: Number can only safely store up to 53 bits\\n    at assert (C:\\\\Program Files\\\\WindowsApps\\\\GanacheUI_2.5.4.0_x64__5dg5pnz03psnj\\\\app\\\\resources\\\\static\\\\node\\\\node_modules\\\\ganache-core\\\\node_modules\\\\bn.js\\\\lib\\\\bn.js:6:21)\\n    at BN.toNumber (C:\\\\Program Files\\\\WindowsApps\\\\GanacheUI_2.5.4.0_x64__5dg5pnz03psnj\\\\app\\\\resources\\\\static\\\\node\\\\node_modules\\\\ganache-core\\\\node_modules\\\\bn.js\\\\lib\\\\bn.js:506:7)\\n    at Object.exports.bufferToInt (C:\\\\Program Files\\\\WindowsApps\\\\GanacheUI_2.5.4.0_x64__5dg5pnz03psnj\\\\app\\\\resources\\\\static\\\\node\\\\node_modules\\\\ganache-core\\\\node_modules\\\\ethereumjs-util\\\\src\\\\bytes.ts:104:32)\\n    at Object.number (C:\\\\Program Files\\\\WindowsApps\\\\GanacheUI_2.5.4.0_x64__5dg5pnz03psnj\\\\app\\\\resources\\\\static\\\\node\\\\node_modules\\\\ganache-core\\\\lib\\\\utils\\\\to.js:122:18)\\n    at StateManager._queueTransaction (C:\\\\Program Files\\\\WindowsApps\\\\GanacheUI_2.5.4.0_x64__5dg5pnz03psnj\\\\app\\\\resources\\\\static\\\\node\\\\node_modules\\\\ganache-core\\\\lib\\\\statemanager.js:406:8)\\n    at StateManager.queueRawTransaction (C:\\\\Program Files\\\\WindowsApps\\\\GanacheUI_2.5.4.0_x64__5dg5pnz03psnj\\\\app\\\\resources\\\\static\\\\node\\\\node_modules\\\\ganache-core\\\\lib\\\\statemanager.js:324:8)\\n    at GethApiDouble.eth_sendRawTransaction (C:\\\\Program Files\\\\WindowsApps\\\\GanacheUI_2.5.4.0_x64__5dg5pnz03psnj\\\\app\\\\resources\\\\static\\\\node\\\\node_modules\\\\ganache-core\\\\lib\\\\subproviders\\\\geth_api_double.js:338:14)\\n    at GethApiDouble.handleRequest (C:\\\\Program Files\\\\WindowsApps\\\\GanacheUI_2.5.4.0_x64__5dg5pnz03psnj\\\\app\\\\resources\\\\static\\\\node\\\\node_modules\\\\ganache-core\\\\lib\\\\subproviders\\\\geth_api_double.js:109:10)\\n    at next (C:\\\\Program Files\\\\WindowsApps\\\\GanacheUI_2.5.4.0_x64__5dg5pnz03psnj\\\\app\\\\resources\\\\static\\\\node\\\\node_modules\\\\ganache-core\\\\node_modules\\\\web3-provider-engine\\\\index.js:136:18)\\n    at GethDefaults.handleRequest (C:\\\\Program Files\\\\WindowsApps\\\\GanacheUI_2.5.4.0_x64__5dg5pnz03psnj\\\\app\\\\resources\\\\static\\\\node\\\\node_modules\\\\ganache-core\\\\lib\\\\subproviders\\\\gethdefaults.js:15:12)\\n    at next (C:\\\\Program Files\\\\WindowsApps\\\\GanacheUI_2.5.4.0_x64__5dg5pnz03psnj\\\\app\\\\resources\\\\static\\\\node\\\\node_modules\\\\ganache-core\\\\node_modules\\\\web3-provider-engine\\\\index.js:136:18)\\n    at SubscriptionSubprovider.FilterSubprovider.handleRequest (C:\\\\Program Files\\\\WindowsApps\\\\GanacheUI_2.5.4.0_x64__5dg5pnz03psnj\\\\app\\\\resources\\\\static\\\\node\\\\node_modules\\\\ganache-core\\\\node_modules\\\\web3-provider-engine\\\\subproviders\\\\filters.js:89:7)\\n    at SubscriptionSubprovider.handleRequest (C:\\\\Program Files\\\\WindowsApps\\\\GanacheUI_2.5.4.0_x64__5dg5pnz03psnj\\\\app\\\\resources\\\\static\\\\node\\\\node_modules\\\\ganache-core\\\\node_modules\\\\web3-provider-engine\\\\subproviders\\\\subscriptions.js:137:49)\\n    at next (C:\\\\Program Files\\\\WindowsApps\\\\GanacheUI_2.5.4.0_x64__5dg5pnz03psnj\\\\app\\\\resources\\\\static\\\\node\\\\node_modules\\\\ganache-core\\\\node_modules\\\\web3-provider-engine\\\\index.js:136:18)\\n    at DelayedBlockFilter.handleRequest (C:\\\\Program Files\\\\WindowsApps\\\\GanacheUI_2.5.4.0_x64__5dg5pnz03psnj\\\\app\\\\resources\\\\static\\\\node\\\\node_modules\\\\ganache-core\\\\lib\\\\subproviders\\\\delayedblockfilter.js:31:3)\\n    at next (C:\\\\Program Files\\\\WindowsApps\\\\GanacheUI_2.5.4.0_x64__5dg5pnz03psnj\\\\app\\\\resources\\\\static\\\\node\\\\node_modules\\\\ganache-core\\\\node_modules\\\\web3-provider-engine\\\\index.js:136:18)', 'name': 'Error'}}",
     "output_type": "error",
     "traceback": [
      "\u001b[1;31m---------------------------------------------------------------------------\u001b[0m",
      "\u001b[1;31mValueError\u001b[0m                                Traceback (most recent call last)",
      "\u001b[1;32m~\\AppData\\Local\\Temp/ipykernel_30592/4236929243.py\u001b[0m in \u001b[0;36m<module>\u001b[1;34m\u001b[0m\n\u001b[1;32m----> 1\u001b[1;33m \u001b[0mtx_hash\u001b[0m\u001b[1;33m=\u001b[0m\u001b[0mw3\u001b[0m\u001b[1;33m.\u001b[0m\u001b[0meth\u001b[0m\u001b[1;33m.\u001b[0m\u001b[0msend_raw_transaction\u001b[0m\u001b[1;33m(\u001b[0m\u001b[0mtx_create\u001b[0m\u001b[1;33m.\u001b[0m\u001b[0mrawTransaction\u001b[0m\u001b[1;33m)\u001b[0m\u001b[1;33m\u001b[0m\u001b[1;33m\u001b[0m\u001b[0m\n\u001b[0m",
      "\u001b[1;32m~\\.conda\\envs\\dev\\lib\\site-packages\\web3\\eth.py\u001b[0m in \u001b[0;36msend_raw_transaction\u001b[1;34m(self, transaction)\u001b[0m\n\u001b[0;32m    829\u001b[0m \u001b[1;33m\u001b[0m\u001b[0m\n\u001b[0;32m    830\u001b[0m     \u001b[1;32mdef\u001b[0m \u001b[0msend_raw_transaction\u001b[0m\u001b[1;33m(\u001b[0m\u001b[0mself\u001b[0m\u001b[1;33m,\u001b[0m \u001b[0mtransaction\u001b[0m\u001b[1;33m:\u001b[0m \u001b[0mUnion\u001b[0m\u001b[1;33m[\u001b[0m\u001b[0mHexStr\u001b[0m\u001b[1;33m,\u001b[0m \u001b[0mbytes\u001b[0m\u001b[1;33m]\u001b[0m\u001b[1;33m)\u001b[0m \u001b[1;33m->\u001b[0m \u001b[0mHexBytes\u001b[0m\u001b[1;33m:\u001b[0m\u001b[1;33m\u001b[0m\u001b[1;33m\u001b[0m\u001b[0m\n\u001b[1;32m--> 831\u001b[1;33m         \u001b[1;32mreturn\u001b[0m \u001b[0mself\u001b[0m\u001b[1;33m.\u001b[0m\u001b[0m_send_raw_transaction\u001b[0m\u001b[1;33m(\u001b[0m\u001b[0mtransaction\u001b[0m\u001b[1;33m)\u001b[0m\u001b[1;33m\u001b[0m\u001b[1;33m\u001b[0m\u001b[0m\n\u001b[0m\u001b[0;32m    832\u001b[0m \u001b[1;33m\u001b[0m\u001b[0m\n\u001b[0;32m    833\u001b[0m     def sign_munger(\n",
      "\u001b[1;32m~\\.conda\\envs\\dev\\lib\\site-packages\\web3\\module.py\u001b[0m in \u001b[0;36mcaller\u001b[1;34m(*args, **kwargs)\u001b[0m\n\u001b[0;32m     58\u001b[0m                                              \u001b[0mparams\u001b[0m\u001b[1;33m,\u001b[0m\u001b[1;33m\u001b[0m\u001b[1;33m\u001b[0m\u001b[0m\n\u001b[0;32m     59\u001b[0m                                              \u001b[0merror_formatters\u001b[0m\u001b[1;33m,\u001b[0m\u001b[1;33m\u001b[0m\u001b[1;33m\u001b[0m\u001b[0m\n\u001b[1;32m---> 60\u001b[1;33m                                              null_result_formatters)\n\u001b[0m\u001b[0;32m     61\u001b[0m         \u001b[1;32mreturn\u001b[0m \u001b[0mapply_result_formatters\u001b[0m\u001b[1;33m(\u001b[0m\u001b[0mresult_formatters\u001b[0m\u001b[1;33m,\u001b[0m \u001b[0mresult\u001b[0m\u001b[1;33m)\u001b[0m\u001b[1;33m\u001b[0m\u001b[1;33m\u001b[0m\u001b[0m\n\u001b[0;32m     62\u001b[0m     \u001b[1;32mreturn\u001b[0m \u001b[0mcaller\u001b[0m\u001b[1;33m\u001b[0m\u001b[1;33m\u001b[0m\u001b[0m\n",
      "\u001b[1;32m~\\.conda\\envs\\dev\\lib\\site-packages\\web3\\manager.py\u001b[0m in \u001b[0;36mrequest_blocking\u001b[1;34m(self, method, params, error_formatters, null_result_formatters)\u001b[0m\n\u001b[0;32m    199\u001b[0m                                        \u001b[0mparams\u001b[0m\u001b[1;33m,\u001b[0m\u001b[1;33m\u001b[0m\u001b[1;33m\u001b[0m\u001b[0m\n\u001b[0;32m    200\u001b[0m                                        \u001b[0merror_formatters\u001b[0m\u001b[1;33m,\u001b[0m\u001b[1;33m\u001b[0m\u001b[1;33m\u001b[0m\u001b[0m\n\u001b[1;32m--> 201\u001b[1;33m                                        null_result_formatters)\n\u001b[0m\u001b[0;32m    202\u001b[0m \u001b[1;33m\u001b[0m\u001b[0m\n\u001b[0;32m    203\u001b[0m     async def coro_request(\n",
      "\u001b[1;32m~\\.conda\\envs\\dev\\lib\\site-packages\\web3\\manager.py\u001b[0m in \u001b[0;36mformatted_response\u001b[1;34m(response, params, error_formatters, null_result_formatters)\u001b[0m\n\u001b[0;32m    169\u001b[0m         \u001b[1;32mif\u001b[0m \u001b[1;34m\"error\"\u001b[0m \u001b[1;32min\u001b[0m \u001b[0mresponse\u001b[0m\u001b[1;33m:\u001b[0m\u001b[1;33m\u001b[0m\u001b[1;33m\u001b[0m\u001b[0m\n\u001b[0;32m    170\u001b[0m             \u001b[0mapply_error_formatters\u001b[0m\u001b[1;33m(\u001b[0m\u001b[0merror_formatters\u001b[0m\u001b[1;33m,\u001b[0m \u001b[0mresponse\u001b[0m\u001b[1;33m)\u001b[0m\u001b[1;33m\u001b[0m\u001b[1;33m\u001b[0m\u001b[0m\n\u001b[1;32m--> 171\u001b[1;33m             \u001b[1;32mraise\u001b[0m \u001b[0mValueError\u001b[0m\u001b[1;33m(\u001b[0m\u001b[0mresponse\u001b[0m\u001b[1;33m[\u001b[0m\u001b[1;34m\"error\"\u001b[0m\u001b[1;33m]\u001b[0m\u001b[1;33m)\u001b[0m\u001b[1;33m\u001b[0m\u001b[1;33m\u001b[0m\u001b[0m\n\u001b[0m\u001b[0;32m    172\u001b[0m         \u001b[1;31m# NULL_RESPONSES includes None, so return False here as the default\u001b[0m\u001b[1;33m\u001b[0m\u001b[1;33m\u001b[0m\u001b[1;33m\u001b[0m\u001b[0m\n\u001b[0;32m    173\u001b[0m         \u001b[1;31m# so we don't apply the null_result_formatters if there is no 'result' key\u001b[0m\u001b[1;33m\u001b[0m\u001b[1;33m\u001b[0m\u001b[1;33m\u001b[0m\u001b[0m\n",
      "\u001b[1;31mValueError\u001b[0m: {'message': 'Number can only safely store up to 53 bits', 'code': -32000, 'data': {'stack': 'Error: Number can only safely store up to 53 bits\\n    at assert (C:\\\\Program Files\\\\WindowsApps\\\\GanacheUI_2.5.4.0_x64__5dg5pnz03psnj\\\\app\\\\resources\\\\static\\\\node\\\\node_modules\\\\ganache-core\\\\node_modules\\\\bn.js\\\\lib\\\\bn.js:6:21)\\n    at BN.toNumber (C:\\\\Program Files\\\\WindowsApps\\\\GanacheUI_2.5.4.0_x64__5dg5pnz03psnj\\\\app\\\\resources\\\\static\\\\node\\\\node_modules\\\\ganache-core\\\\node_modules\\\\bn.js\\\\lib\\\\bn.js:506:7)\\n    at Object.exports.bufferToInt (C:\\\\Program Files\\\\WindowsApps\\\\GanacheUI_2.5.4.0_x64__5dg5pnz03psnj\\\\app\\\\resources\\\\static\\\\node\\\\node_modules\\\\ganache-core\\\\node_modules\\\\ethereumjs-util\\\\src\\\\bytes.ts:104:32)\\n    at Object.number (C:\\\\Program Files\\\\WindowsApps\\\\GanacheUI_2.5.4.0_x64__5dg5pnz03psnj\\\\app\\\\resources\\\\static\\\\node\\\\node_modules\\\\ganache-core\\\\lib\\\\utils\\\\to.js:122:18)\\n    at StateManager._queueTransaction (C:\\\\Program Files\\\\WindowsApps\\\\GanacheUI_2.5.4.0_x64__5dg5pnz03psnj\\\\app\\\\resources\\\\static\\\\node\\\\node_modules\\\\ganache-core\\\\lib\\\\statemanager.js:406:8)\\n    at StateManager.queueRawTransaction (C:\\\\Program Files\\\\WindowsApps\\\\GanacheUI_2.5.4.0_x64__5dg5pnz03psnj\\\\app\\\\resources\\\\static\\\\node\\\\node_modules\\\\ganache-core\\\\lib\\\\statemanager.js:324:8)\\n    at GethApiDouble.eth_sendRawTransaction (C:\\\\Program Files\\\\WindowsApps\\\\GanacheUI_2.5.4.0_x64__5dg5pnz03psnj\\\\app\\\\resources\\\\static\\\\node\\\\node_modules\\\\ganache-core\\\\lib\\\\subproviders\\\\geth_api_double.js:338:14)\\n    at GethApiDouble.handleRequest (C:\\\\Program Files\\\\WindowsApps\\\\GanacheUI_2.5.4.0_x64__5dg5pnz03psnj\\\\app\\\\resources\\\\static\\\\node\\\\node_modules\\\\ganache-core\\\\lib\\\\subproviders\\\\geth_api_double.js:109:10)\\n    at next (C:\\\\Program Files\\\\WindowsApps\\\\GanacheUI_2.5.4.0_x64__5dg5pnz03psnj\\\\app\\\\resources\\\\static\\\\node\\\\node_modules\\\\ganache-core\\\\node_modules\\\\web3-provider-engine\\\\index.js:136:18)\\n    at GethDefaults.handleRequest (C:\\\\Program Files\\\\WindowsApps\\\\GanacheUI_2.5.4.0_x64__5dg5pnz03psnj\\\\app\\\\resources\\\\static\\\\node\\\\node_modules\\\\ganache-core\\\\lib\\\\subproviders\\\\gethdefaults.js:15:12)\\n    at next (C:\\\\Program Files\\\\WindowsApps\\\\GanacheUI_2.5.4.0_x64__5dg5pnz03psnj\\\\app\\\\resources\\\\static\\\\node\\\\node_modules\\\\ganache-core\\\\node_modules\\\\web3-provider-engine\\\\index.js:136:18)\\n    at SubscriptionSubprovider.FilterSubprovider.handleRequest (C:\\\\Program Files\\\\WindowsApps\\\\GanacheUI_2.5.4.0_x64__5dg5pnz03psnj\\\\app\\\\resources\\\\static\\\\node\\\\node_modules\\\\ganache-core\\\\node_modules\\\\web3-provider-engine\\\\subproviders\\\\filters.js:89:7)\\n    at SubscriptionSubprovider.handleRequest (C:\\\\Program Files\\\\WindowsApps\\\\GanacheUI_2.5.4.0_x64__5dg5pnz03psnj\\\\app\\\\resources\\\\static\\\\node\\\\node_modules\\\\ganache-core\\\\node_modules\\\\web3-provider-engine\\\\subproviders\\\\subscriptions.js:137:49)\\n    at next (C:\\\\Program Files\\\\WindowsApps\\\\GanacheUI_2.5.4.0_x64__5dg5pnz03psnj\\\\app\\\\resources\\\\static\\\\node\\\\node_modules\\\\ganache-core\\\\node_modules\\\\web3-provider-engine\\\\index.js:136:18)\\n    at DelayedBlockFilter.handleRequest (C:\\\\Program Files\\\\WindowsApps\\\\GanacheUI_2.5.4.0_x64__5dg5pnz03psnj\\\\app\\\\resources\\\\static\\\\node\\\\node_modules\\\\ganache-core\\\\lib\\\\subproviders\\\\delayedblockfilter.js:31:3)\\n    at next (C:\\\\Program Files\\\\WindowsApps\\\\GanacheUI_2.5.4.0_x64__5dg5pnz03psnj\\\\app\\\\resources\\\\static\\\\node\\\\node_modules\\\\ganache-core\\\\node_modules\\\\web3-provider-engine\\\\index.js:136:18)', 'name': 'Error'}}"
     ]
    }
   ],
   "source": [
    "tx_hash=w3.eth.send_raw_transaction(tx_create.rawTransaction)"
   ]
  },
  {
   "cell_type": "code",
   "execution_count": null,
   "id": "219b4446-b78d-4e4f-8467-e62b487cf2c2",
   "metadata": {},
   "outputs": [],
   "source": []
  },
  {
   "cell_type": "code",
   "execution_count": null,
   "id": "88a1ed41-5555-47fa-b944-2499463e966b",
   "metadata": {},
   "outputs": [],
   "source": []
  }
 ],
 "metadata": {
  "kernelspec": {
   "display_name": "dev",
   "language": "python",
   "name": "dev"
  },
  "language_info": {
   "codemirror_mode": {
    "name": "ipython",
    "version": 3
   },
   "file_extension": ".py",
   "mimetype": "text/x-python",
   "name": "python",
   "nbconvert_exporter": "python",
   "pygments_lexer": "ipython3",
   "version": "3.7.11"
  }
 },
 "nbformat": 4,
 "nbformat_minor": 5
}
