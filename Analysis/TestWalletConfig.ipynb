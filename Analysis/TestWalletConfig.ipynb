{
 "cells": [
  {
   "cell_type": "code",
   "execution_count": 4,
   "id": "d6ca75ea-c043-4f70-93ad-012c1b99850f",
   "metadata": {},
   "outputs": [
    {
     "data": {
      "text/plain": [
       "True"
      ]
     },
     "execution_count": 4,
     "metadata": {},
     "output_type": "execute_result"
    }
   ],
   "source": [
    "import os\n",
    "from dotenv import load_dotenv\n",
    "load_dotenv()"
   ]
  },
  {
   "cell_type": "markdown",
   "id": "9014aa3d-7b00-44de-9f3b-735a7129e13f",
   "metadata": {},
   "source": [
    "# .env\n",
    "\n",
    "0x04324f495a27fa08d5E8CC3F01178F55C46D53bf=\"clarify mango bring cage taste orphan rack trend hazard process vote smart\""
   ]
  },
  {
   "cell_type": "code",
   "execution_count": 5,
   "id": "a487f121-326a-417a-aae0-4ca8c9cd3128",
   "metadata": {},
   "outputs": [],
   "source": [
    "address = '0x04324f495a27fa08d5E8CC3F01178F55C46D53bf'  # this value could be entered in a text field in the streamlit UI"
   ]
  },
  {
   "cell_type": "code",
   "execution_count": 6,
   "id": "2c33dabf-cffb-46c7-9125-66bbc8af86a7",
   "metadata": {},
   "outputs": [
    {
     "data": {
      "text/plain": [
       "'clarify mango bring cage taste orphan rack trend hazard process vote smart'"
      ]
     },
     "execution_count": 6,
     "metadata": {},
     "output_type": "execute_result"
    }
   ],
   "source": [
    "secret = os.environ[address]\n",
    "secret"
   ]
  },
  {
   "cell_type": "code",
   "execution_count": null,
   "id": "1481b6aa-1ab6-438a-a501-8a9c496f59fb",
   "metadata": {},
   "outputs": [],
   "source": []
  }
 ],
 "metadata": {
  "kernelspec": {
   "display_name": "Python 3 (ipykernel)",
   "language": "python",
   "name": "python3"
  },
  "language_info": {
   "codemirror_mode": {
    "name": "ipython",
    "version": 3
   },
   "file_extension": ".py",
   "mimetype": "text/x-python",
   "name": "python",
   "nbconvert_exporter": "python",
   "pygments_lexer": "ipython3",
   "version": "3.7.11"
  }
 },
 "nbformat": 4,
 "nbformat_minor": 5
}
