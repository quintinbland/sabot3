{
 "cells": [
  {
   "cell_type": "code",
   "execution_count": 1,
   "id": "5fa92854-0247-4d0f-9be8-2d02b8956399",
   "metadata": {},
   "outputs": [],
   "source": [
    "from crypto_wallet import *"
   ]
  },
  {
   "cell_type": "code",
   "execution_count": 2,
   "id": "0050a09b-0345-40ce-af98-cb24226126cf",
   "metadata": {},
   "outputs": [],
   "source": [
    "##ETH Node\n",
    "node_address = 'HTTP://127.0.0.1:7545'\n",
    "w3 = connect_RPC_server(node_address)"
   ]
  },
  {
   "cell_type": "code",
   "execution_count": 3,
   "id": "9faadd29-df77-41fb-8328-b26379cbd72a",
   "metadata": {},
   "outputs": [],
   "source": [
    "mnemonic = mnemonic_generator(128)"
   ]
  },
  {
   "cell_type": "code",
   "execution_count": 4,
   "id": "72fe724b-b88a-4ca2-9649-b581ca7f76d9",
   "metadata": {},
   "outputs": [
    {
     "data": {
      "text/plain": [
       "'lunch hold word father panther ignore stock snap fiscal unfair oxygen treat'"
      ]
     },
     "execution_count": 4,
     "metadata": {},
     "output_type": "execute_result"
    }
   ],
   "source": [
    "mnemonic"
   ]
  },
  {
   "cell_type": "code",
   "execution_count": 5,
   "id": "8b5c87df-b0ed-49ba-8a50-6bd4691cd325",
   "metadata": {},
   "outputs": [
    {
     "data": {
      "text/plain": [
       "<bip44.wallet.Wallet at 0x1fe94684e88>"
      ]
     },
     "execution_count": 5,
     "metadata": {},
     "output_type": "execute_result"
    }
   ],
   "source": [
    "# Instantiate a new instance of Wallet and pass it the mnemonic variable\n",
    "wallet = Wallet(mnemonic)\n",
    "\n",
    "# Review your wallet instance\n",
    "wallet"
   ]
  },
  {
   "cell_type": "code",
   "execution_count": 6,
   "id": "6c37dd47-c40b-4e2a-9215-2f51137f4d5e",
   "metadata": {},
   "outputs": [],
   "source": [
    "keys={}\n",
    "for i in range(10):\n",
    "    private, public = wallet.derive_account('eth',0,0,i)\n",
    "    keys[i]={'private':private,'public':public}"
   ]
  },
  {
   "cell_type": "code",
   "execution_count": 7,
   "id": "e51a4d38-4d23-4941-8dce-2168c5a9a5c2",
   "metadata": {},
   "outputs": [
    {
     "data": {
      "text/plain": [
       "{0: {'private': b'\\x8f\\xb8\\xa7N+\\xf5^\\xdd=\\x13{\\xeaU\\xda\\xbd\\xd7\\xbd \\x848\\x03\\x15\\x87\\xab\\xab\\x89\\xb0\\xf6\\xfc\\x80\\xf2\\xc8',\n",
       "  'public': b'\\x03W\\xf0O\\xf8\\x8c\\x11p_\\xfbV\\x98\\n\\xf7\\xdc\\xf7\\x19\\x88\\x9e(\\x8b\\x11\\xc2V\\x13\\x8e8H\\xfcM\\xfa\\xbd9'},\n",
       " 1: {'private': b'N\\x06(P\\r\\xca\\xd7O+\\x18\\xa7\\xffPu\\x1dD\\x8c\\x8e;`W\\xf0\\x9c\\xcaZ7\\xebu\\xf2y>\\x93',\n",
       "  'public': b\"\\x02~\\xc3o\\xf4\\\\[\\x9f\\x0e\\x07\\xc7\\x1cIb\\x02\\xfa-\\x9fm\\xadQ\\x1a\\xccp(\\xa9\\xact\\\\\\xfap\\x93'\"},\n",
       " 2: {'private': b'\\xd6q\\xbc]6\\xbb\\xec\\xe0G\\xa9\\x91\\xf7\\xac\\x1d\\xfa\\xf86\\xf8~ZD\\xf1\\xdac\\xa3\\x8e\\x8ft+\\xae\\xeck',\n",
       "  'public': b'\\x02\\xd9u+/\\xe6\\x87M\\x0cH\\xc4\\xd8\\xba|\\xa0\\xc9\\xd0\\xb2Sk\\x14\\x13\\xa6v\\xa8H\\xf7\\x0eV\\xba}r\\xf5'},\n",
       " 3: {'private': b'\\x16\\xb1z\\xc7~\\x9c\\xb22\\xbcff\\xb5\\xa3\\xccQ\\x89\\xb3b)8\\rO\\x1d\\x1b\\xe4\\x1a\\x87s\\x80Q\\x9cK',\n",
       "  'public': b'\\x023`\\x8d\\xa2k@@#\\x8b\\xaa\\x1cWt\\x11\\xef\\xfe\\x8a\\x08\\t\\xdd\\x12\\xf5\\x1c\\x14\\xc6\\xb5(;\\x18\\xa1\\x08w'},\n",
       " 4: {'private': b'\\x8cR=\\x13)\\x87\\xfd\\x87Qu\\x04.PXv\\x89\\x86\\x84\\xf6\\xd5\\xb1y\\xb0\\x9d8\\x13\\x7fX\\xe3\\x82T\\xc4',\n",
       "  'public': b'\\x03\\x13o\\xfbk\\xacC5\\xd0S\\xcd\\xba\\x8d\\xb5\\x04\\x05\\x87*=\\x01\\xd3Q\\xe3\\x943\\x8f\\xbd\\xd8\\xf3C\\xf1\\xe6\\xd5'},\n",
       " 5: {'private': b'\\xd3\\x91\\x0e\\ni\\xc4\\xdb<\\nC%\\x1c\\n\\\\\\xb0\\xee\\x89\\xd9i\\xaa\\xbe\\xe9\\xcb)W\\xe1^\\x088\\xf73!',\n",
       "  'public': b'\\x03\\x92^\\x07\\x9f\\x9fc\\xb6%\\x06\\x80E\\x02\\xb1\\x06\\xf1_\\xef\\xa1\\xbc[\\xf2\\xe7\\xa1\\xf3C\\x83v\\xd1\\xab\\xe8c\\x0f'},\n",
       " 6: {'private': b'\\x0eU\\xcb\\x10\\xbd1\\xb8@\\xa6tLz*o#\\x86\\xe5\\xf1\\xf7\\xa7\\x8e\\x8f>\\x12d\\xae\\xd79\\xcb\\xd4\\xe9d',\n",
       "  'public': b'\\x03\\x95/\\xff\\xdf\\x0f/\\xcb\\x05\\x82\\xd3\\xd4\\xb7\\x88\\x7f}\\xf3\\xb2\\xc8B\\xfc\\xd5\\xd2,~\\x8d\\x9b\\xfd\\xa6|\\xd3v3'},\n",
       " 7: {'private': b'_e\\x8bk\\x89<\\x18\\x9eU\\xaa\\xf68RR\\xe0)d\\x8fz)\\xde:\\x0b\\x804al\\x1e\\x81\\xd3\\xc2\\xb4',\n",
       "  'public': b'\\x037\\x83\\x85\\xedp6r\\xe4a\\xbc\\x859\\xbe\\x9a\\x02;\\x1d\\xadh\\\\$\\x86\\xb1Fh\\xcf\\xe9\\xa8\\xc1}\\xbay'},\n",
       " 8: {'private': b'_\\xf9\\x1bi\\x9f\\xaeh\\x95\\xc8Z\\xe8\\x1aG\\x97\\x1e\\xaa\\xdbb\\x81\\x1d\\x954Z:>Z\\xec\\xc4\\xdc\\x8f\\xa6\\x08',\n",
       "  'public': b'\\x03v\\x0fv\\xa4V\\x05\\xcb\\x81\\x06X\\xbc\\x87\\xa6V\\x10\\xb8L\\xc1v\\xdd\\x94p\\xd5F\\xdfA\\xff\\x9a\\xb0\\x99\\xf1\\xe2'},\n",
       " 9: {'private': b't\\xfd\\x082[wQW}\\xe2*OQ\\xb6h\\xc4\\xb1Sa\\xafE\\xe4\\xffZ\\xe1\\xd9\\xa1\\xcf\\xf8\\\\\\xdc\\xe2',\n",
       "  'public': b'\\x03\\xe6x0[\\x1d?\\x89M\\xbf\\xf6,\\x06\\xaa\\xdb\\xca\\x8a\\xd9\\x92m\\xda\\x8f[\\x1b[\\x8f}\\x19\\xc6cK\\xb8\\x87'}}"
      ]
     },
     "execution_count": 7,
     "metadata": {},
     "output_type": "execute_result"
    }
   ],
   "source": [
    "keys"
   ]
  },
  {
   "cell_type": "code",
   "execution_count": 8,
   "id": "5acdc012-7125-42a6-a3f4-3e5b42ba32c7",
   "metadata": {},
   "outputs": [
    {
     "data": {
      "text/plain": [
       "{0: {'private': b'\\x8f\\xb8\\xa7N+\\xf5^\\xdd=\\x13{\\xeaU\\xda\\xbd\\xd7\\xbd \\x848\\x03\\x15\\x87\\xab\\xab\\x89\\xb0\\xf6\\xfc\\x80\\xf2\\xc8',\n",
       "  'public': b'\\x03W\\xf0O\\xf8\\x8c\\x11p_\\xfbV\\x98\\n\\xf7\\xdc\\xf7\\x19\\x88\\x9e(\\x8b\\x11\\xc2V\\x13\\x8e8H\\xfcM\\xfa\\xbd9',\n",
       "  'account': <eth_account.signers.local.LocalAccount at 0x177036842c8>,\n",
       "  'address': '0x753f95da5E01A463c0952F81C3a4366e405019b1'},\n",
       " 1: {'private': b'N\\x06(P\\r\\xca\\xd7O+\\x18\\xa7\\xffPu\\x1dD\\x8c\\x8e;`W\\xf0\\x9c\\xcaZ7\\xebu\\xf2y>\\x93',\n",
       "  'public': b\"\\x02~\\xc3o\\xf4\\\\[\\x9f\\x0e\\x07\\xc7\\x1cIb\\x02\\xfa-\\x9fm\\xadQ\\x1a\\xccp(\\xa9\\xact\\\\\\xfap\\x93'\",\n",
       "  'account': <eth_account.signers.local.LocalAccount at 0x177036d1488>,\n",
       "  'address': '0x59fe7E0c4303125Ee5e1fA6248723BF017668835'},\n",
       " 2: {'private': b'\\xd6q\\xbc]6\\xbb\\xec\\xe0G\\xa9\\x91\\xf7\\xac\\x1d\\xfa\\xf86\\xf8~ZD\\xf1\\xdac\\xa3\\x8e\\x8ft+\\xae\\xeck',\n",
       "  'public': b'\\x02\\xd9u+/\\xe6\\x87M\\x0cH\\xc4\\xd8\\xba|\\xa0\\xc9\\xd0\\xb2Sk\\x14\\x13\\xa6v\\xa8H\\xf7\\x0eV\\xba}r\\xf5',\n",
       "  'account': <eth_account.signers.local.LocalAccount at 0x177036e5c88>,\n",
       "  'address': '0x5771e5c030Aa3594E3385eBcdC2c3ea50A27a24f'},\n",
       " 3: {'private': b'\\x16\\xb1z\\xc7~\\x9c\\xb22\\xbcff\\xb5\\xa3\\xccQ\\x89\\xb3b)8\\rO\\x1d\\x1b\\xe4\\x1a\\x87s\\x80Q\\x9cK',\n",
       "  'public': b'\\x023`\\x8d\\xa2k@@#\\x8b\\xaa\\x1cWt\\x11\\xef\\xfe\\x8a\\x08\\t\\xdd\\x12\\xf5\\x1c\\x14\\xc6\\xb5(;\\x18\\xa1\\x08w',\n",
       "  'account': <eth_account.signers.local.LocalAccount at 0x177035ce2c8>,\n",
       "  'address': '0x1c4b2bBBf8F31786Cd1de8c160A44De1152A6375'},\n",
       " 4: {'private': b'\\x8cR=\\x13)\\x87\\xfd\\x87Qu\\x04.PXv\\x89\\x86\\x84\\xf6\\xd5\\xb1y\\xb0\\x9d8\\x13\\x7fX\\xe3\\x82T\\xc4',\n",
       "  'public': b'\\x03\\x13o\\xfbk\\xacC5\\xd0S\\xcd\\xba\\x8d\\xb5\\x04\\x05\\x87*=\\x01\\xd3Q\\xe3\\x943\\x8f\\xbd\\xd8\\xf3C\\xf1\\xe6\\xd5',\n",
       "  'account': <eth_account.signers.local.LocalAccount at 0x177035ddf88>,\n",
       "  'address': '0x5B5E6593Eab21b6157ae6313510E966eb0C9D0C5'},\n",
       " 5: {'private': b'\\xd3\\x91\\x0e\\ni\\xc4\\xdb<\\nC%\\x1c\\n\\\\\\xb0\\xee\\x89\\xd9i\\xaa\\xbe\\xe9\\xcb)W\\xe1^\\x088\\xf73!',\n",
       "  'public': b'\\x03\\x92^\\x07\\x9f\\x9fc\\xb6%\\x06\\x80E\\x02\\xb1\\x06\\xf1_\\xef\\xa1\\xbc[\\xf2\\xe7\\xa1\\xf3C\\x83v\\xd1\\xab\\xe8c\\x0f',\n",
       "  'account': <eth_account.signers.local.LocalAccount at 0x17703590608>,\n",
       "  'address': '0xa03851175c181405e142Ce43DD78C977b54e5736'},\n",
       " 6: {'private': b'\\x0eU\\xcb\\x10\\xbd1\\xb8@\\xa6tLz*o#\\x86\\xe5\\xf1\\xf7\\xa7\\x8e\\x8f>\\x12d\\xae\\xd79\\xcb\\xd4\\xe9d',\n",
       "  'public': b'\\x03\\x95/\\xff\\xdf\\x0f/\\xcb\\x05\\x82\\xd3\\xd4\\xb7\\x88\\x7f}\\xf3\\xb2\\xc8B\\xfc\\xd5\\xd2,~\\x8d\\x9b\\xfd\\xa6|\\xd3v3',\n",
       "  'account': <eth_account.signers.local.LocalAccount at 0x1770408ee08>,\n",
       "  'address': '0x7B9D4aBAFc3Aa567C3316b9fA82A2cB8b49ED0bb'},\n",
       " 7: {'private': b'_e\\x8bk\\x89<\\x18\\x9eU\\xaa\\xf68RR\\xe0)d\\x8fz)\\xde:\\x0b\\x804al\\x1e\\x81\\xd3\\xc2\\xb4',\n",
       "  'public': b'\\x037\\x83\\x85\\xedp6r\\xe4a\\xbc\\x859\\xbe\\x9a\\x02;\\x1d\\xadh\\\\$\\x86\\xb1Fh\\xcf\\xe9\\xa8\\xc1}\\xbay',\n",
       "  'account': <eth_account.signers.local.LocalAccount at 0x1770408eac8>,\n",
       "  'address': '0xA8Ce82BF8F9a398a745630d507Fa00acd1b48a98'},\n",
       " 8: {'private': b'_\\xf9\\x1bi\\x9f\\xaeh\\x95\\xc8Z\\xe8\\x1aG\\x97\\x1e\\xaa\\xdbb\\x81\\x1d\\x954Z:>Z\\xec\\xc4\\xdc\\x8f\\xa6\\x08',\n",
       "  'public': b'\\x03v\\x0fv\\xa4V\\x05\\xcb\\x81\\x06X\\xbc\\x87\\xa6V\\x10\\xb8L\\xc1v\\xdd\\x94p\\xd5F\\xdfA\\xff\\x9a\\xb0\\x99\\xf1\\xe2',\n",
       "  'account': <eth_account.signers.local.LocalAccount at 0x17704082d08>,\n",
       "  'address': '0xd2fcbEEBe9d82eA1fFB0F75828941f9eeDBfeD17'},\n",
       " 9: {'private': b't\\xfd\\x082[wQW}\\xe2*OQ\\xb6h\\xc4\\xb1Sa\\xafE\\xe4\\xffZ\\xe1\\xd9\\xa1\\xcf\\xf8\\\\\\xdc\\xe2',\n",
       "  'public': b'\\x03\\xe6x0[\\x1d?\\x89M\\xbf\\xf6,\\x06\\xaa\\xdb\\xca\\x8a\\xd9\\x92m\\xda\\x8f[\\x1b[\\x8f}\\x19\\xc6cK\\xb8\\x87',\n",
       "  'account': <eth_account.signers.local.LocalAccount at 0x17704082b08>,\n",
       "  'address': '0xE4F7c0954DE895f8a4e2dBB3c04991fA9753918D'}}"
      ]
     },
     "execution_count": 8,
     "metadata": {},
     "output_type": "execute_result"
    }
   ],
   "source": [
    "for index in keys:\n",
    "    keys[index]['account']=Account.privateKeyToAccount(keys[index]['private'])\n",
    "    keys[index]['address']=keys[index]['account'].address\n",
    "    \n",
    "keys"
   ]
  },
  {
   "cell_type": "code",
   "execution_count": 14,
   "id": "23038526-b4b1-4e5f-b715-06310ea8c450",
   "metadata": {},
   "outputs": [
    {
     "data": {
      "text/plain": [
       "b'\\x03W\\xf0O\\xf8\\x8c\\x11p_\\xfbV\\x98\\n\\xf7\\xdc\\xf7\\x19\\x88\\x9e(\\x8b\\x11\\xc2V\\x13\\x8e8H\\xfcM\\xfa\\xbd9'"
      ]
     },
     "execution_count": 14,
     "metadata": {},
     "output_type": "execute_result"
    }
   ],
   "source": [
    "# Calling the derive_account method on your wallet instance\n",
    "# Pass the string eth to the method\n",
    "private, public = wallet.derive_account('eth')\n",
    "\n",
    "# Review the byte string of your private\n",
    "public"
   ]
  },
  {
   "cell_type": "code",
   "execution_count": 15,
   "id": "6301f7f9-93a6-47f7-9f7c-a1c812da3c17",
   "metadata": {},
   "outputs": [],
   "source": [
    "# Construct the Ethereum account by calling Account.privateKeyToAccount\n",
    "# Pass it your private key variable\n",
    "account = Account.privateKeyToAccount(private)"
   ]
  },
  {
   "cell_type": "code",
   "execution_count": 16,
   "id": "d01d6732-76b3-45a4-ac76-d34189f2b816",
   "metadata": {},
   "outputs": [
    {
     "data": {
      "text/plain": [
       "'0x753f95da5E01A463c0952F81C3a4366e405019b1'"
      ]
     },
     "execution_count": 16,
     "metadata": {},
     "output_type": "execute_result"
    }
   ],
   "source": [
    "# Call account.address to access the address associated with your new Ethereum account\n",
    "account.address"
   ]
  },
  {
   "cell_type": "code",
   "execution_count": 13,
   "id": "4fa3b806-1bb9-4807-abcc-a4572740e691",
   "metadata": {},
   "outputs": [
    {
     "data": {
      "text/plain": [
       "HexBytes('0x8fb8a74e2bf55edd3d137bea55dabdd7bd208438031587abab89b0f6fc80f2c8')"
      ]
     },
     "execution_count": 13,
     "metadata": {},
     "output_type": "execute_result"
    }
   ],
   "source": []
  },
  {
   "cell_type": "code",
   "execution_count": 11,
   "id": "21f524ae-955c-4596-b23e-eed09bf482cc",
   "metadata": {},
   "outputs": [],
   "source": [
    "eth_amount = 1\n",
    "value = w3.toWei(eth_amount, 'ether')"
   ]
  },
  {
   "cell_type": "code",
   "execution_count": 12,
   "id": "912819a1-9bc0-4587-9d2c-aaa36112ff58",
   "metadata": {},
   "outputs": [],
   "source": [
    "receiver=\"0xC50dbc0BF9cD0419f1D21C7bb5d6799A44AAe66E\""
   ]
  },
  {
   "cell_type": "code",
   "execution_count": 13,
   "id": "3f35f537-e2c7-4275-ad7a-ffa8533a09c1",
   "metadata": {},
   "outputs": [],
   "source": [
    "w3.eth.setGasPriceStrategy(medium_gas_price_strategy)"
   ]
  },
  {
   "cell_type": "code",
   "execution_count": 20,
   "id": "07d1b037-d3c4-4003-9abe-674108e42378",
   "metadata": {},
   "outputs": [],
   "source": [
    "sender_account_address = \"0x753f95da5E01A463c0952F81C3a4366e405019b1\""
   ]
  },
  {
   "cell_type": "code",
   "execution_count": 21,
   "id": "d6ac5364-0e6a-4d08-81c8-51b085b4fbdf",
   "metadata": {},
   "outputs": [],
   "source": [
    "# Calculate the gas estimate\n",
    "gasEstimate = w3.eth.estimateGas(\n",
    "    {\"to\": receiver,\n",
    "     \"from\": sender_account_address,\n",
    "     \"value\": value\n",
    "    }\n",
    ")"
   ]
  },
  {
   "cell_type": "code",
   "execution_count": 22,
   "id": "7f5061fc-a249-47cb-96b9-466f46473f0c",
   "metadata": {},
   "outputs": [],
   "source": [
    "# Create the transaction object\n",
    "raw_tx = {\n",
    "    \t\"to\": receiver,\n",
    "    \t\"from\": sender_account_address,\n",
    "    \t\"value\": eth_amount,\n",
    "    \t\"gas\": gasEstimate,\n",
    "    \t\"gasPrice\": 0,\n",
    "    \t\"nonce\": w3.eth.getTransactionCount(sender_account_address)\n",
    "}"
   ]
  },
  {
   "cell_type": "code",
   "execution_count": 23,
   "id": "19be57a7-b28b-4706-983d-b2a40b65995b",
   "metadata": {},
   "outputs": [
    {
     "ename": "TypeError",
     "evalue": "from field must match key's 0xC50dbc0BF9cD0419f1D21C7bb5d6799A44AAe66E, but it was 0x753f95da5E01A463c0952F81C3a4366e405019b1",
     "output_type": "error",
     "traceback": [
      "\u001b[1;31m---------------------------------------------------------------------------\u001b[0m",
      "\u001b[1;31mTypeError\u001b[0m                                 Traceback (most recent call last)",
      "\u001b[1;32m~\\AppData\\Local\\Temp/ipykernel_24100/3567681551.py\u001b[0m in \u001b[0;36m<module>\u001b[1;34m\u001b[0m\n\u001b[0;32m      1\u001b[0m \u001b[1;31m# Create a signed transaction by passing the transaction object\u001b[0m\u001b[1;33m\u001b[0m\u001b[1;33m\u001b[0m\u001b[1;33m\u001b[0m\u001b[0m\n\u001b[0;32m      2\u001b[0m \u001b[1;31m# into the signTransaction function\u001b[0m\u001b[1;33m\u001b[0m\u001b[1;33m\u001b[0m\u001b[1;33m\u001b[0m\u001b[0m\n\u001b[1;32m----> 3\u001b[1;33m \u001b[0msigned_tx\u001b[0m \u001b[1;33m=\u001b[0m \u001b[0maccount\u001b[0m\u001b[1;33m.\u001b[0m\u001b[0msignTransaction\u001b[0m\u001b[1;33m(\u001b[0m\u001b[0mraw_tx\u001b[0m\u001b[1;33m)\u001b[0m\u001b[1;33m\u001b[0m\u001b[1;33m\u001b[0m\u001b[0m\n\u001b[0m",
      "\u001b[1;32m~\\.conda\\envs\\dev\\lib\\site-packages\\eth_account\\signers\\local.py\u001b[0m in \u001b[0;36msignTransaction\u001b[1;34m(self, transaction_dict)\u001b[0m\n\u001b[0;32m     94\u001b[0m             \u001b[0mcategory\u001b[0m\u001b[1;33m=\u001b[0m\u001b[0mDeprecationWarning\u001b[0m\u001b[1;33m,\u001b[0m\u001b[1;33m\u001b[0m\u001b[1;33m\u001b[0m\u001b[0m\n\u001b[0;32m     95\u001b[0m         )\n\u001b[1;32m---> 96\u001b[1;33m         \u001b[1;32mreturn\u001b[0m \u001b[0mself\u001b[0m\u001b[1;33m.\u001b[0m\u001b[0msign_transaction\u001b[0m\u001b[1;33m(\u001b[0m\u001b[0mtransaction_dict\u001b[0m\u001b[1;33m)\u001b[0m\u001b[1;33m\u001b[0m\u001b[1;33m\u001b[0m\u001b[0m\n\u001b[0m\u001b[0;32m     97\u001b[0m \u001b[1;33m\u001b[0m\u001b[0m\n\u001b[0;32m     98\u001b[0m     \u001b[1;32mdef\u001b[0m \u001b[0msign_transaction\u001b[0m\u001b[1;33m(\u001b[0m\u001b[0mself\u001b[0m\u001b[1;33m,\u001b[0m \u001b[0mtransaction_dict\u001b[0m\u001b[1;33m)\u001b[0m\u001b[1;33m:\u001b[0m\u001b[1;33m\u001b[0m\u001b[1;33m\u001b[0m\u001b[0m\n",
      "\u001b[1;32m~\\.conda\\envs\\dev\\lib\\site-packages\\eth_account\\signers\\local.py\u001b[0m in \u001b[0;36msign_transaction\u001b[1;34m(self, transaction_dict)\u001b[0m\n\u001b[0;32m     97\u001b[0m \u001b[1;33m\u001b[0m\u001b[0m\n\u001b[0;32m     98\u001b[0m     \u001b[1;32mdef\u001b[0m \u001b[0msign_transaction\u001b[0m\u001b[1;33m(\u001b[0m\u001b[0mself\u001b[0m\u001b[1;33m,\u001b[0m \u001b[0mtransaction_dict\u001b[0m\u001b[1;33m)\u001b[0m\u001b[1;33m:\u001b[0m\u001b[1;33m\u001b[0m\u001b[1;33m\u001b[0m\u001b[0m\n\u001b[1;32m---> 99\u001b[1;33m         \u001b[1;32mreturn\u001b[0m \u001b[0mself\u001b[0m\u001b[1;33m.\u001b[0m\u001b[0m_publicapi\u001b[0m\u001b[1;33m.\u001b[0m\u001b[0msign_transaction\u001b[0m\u001b[1;33m(\u001b[0m\u001b[0mtransaction_dict\u001b[0m\u001b[1;33m,\u001b[0m \u001b[0mself\u001b[0m\u001b[1;33m.\u001b[0m\u001b[0mkey\u001b[0m\u001b[1;33m)\u001b[0m\u001b[1;33m\u001b[0m\u001b[1;33m\u001b[0m\u001b[0m\n\u001b[0m\u001b[0;32m    100\u001b[0m \u001b[1;33m\u001b[0m\u001b[0m\n\u001b[0;32m    101\u001b[0m     \u001b[1;32mdef\u001b[0m \u001b[0m__bytes__\u001b[0m\u001b[1;33m(\u001b[0m\u001b[0mself\u001b[0m\u001b[1;33m)\u001b[0m\u001b[1;33m:\u001b[0m\u001b[1;33m\u001b[0m\u001b[1;33m\u001b[0m\u001b[0m\n",
      "\u001b[1;32m~\\.conda\\envs\\dev\\lib\\site-packages\\eth_utils\\decorators.py\u001b[0m in \u001b[0;36m_wrapper\u001b[1;34m(*args, **kwargs)\u001b[0m\n\u001b[0;32m     18\u001b[0m                 \u001b[1;32mreturn\u001b[0m \u001b[0mself\u001b[0m\u001b[1;33m.\u001b[0m\u001b[0mmethod\u001b[0m\u001b[1;33m(\u001b[0m\u001b[0mobj\u001b[0m\u001b[1;33m,\u001b[0m \u001b[1;33m*\u001b[0m\u001b[0margs\u001b[0m\u001b[1;33m,\u001b[0m \u001b[1;33m**\u001b[0m\u001b[0mkwargs\u001b[0m\u001b[1;33m)\u001b[0m\u001b[1;33m\u001b[0m\u001b[1;33m\u001b[0m\u001b[0m\n\u001b[0;32m     19\u001b[0m             \u001b[1;32melse\u001b[0m\u001b[1;33m:\u001b[0m\u001b[1;33m\u001b[0m\u001b[1;33m\u001b[0m\u001b[0m\n\u001b[1;32m---> 20\u001b[1;33m                 \u001b[1;32mreturn\u001b[0m \u001b[0mself\u001b[0m\u001b[1;33m.\u001b[0m\u001b[0mmethod\u001b[0m\u001b[1;33m(\u001b[0m\u001b[0mobjtype\u001b[0m\u001b[1;33m,\u001b[0m \u001b[1;33m*\u001b[0m\u001b[0margs\u001b[0m\u001b[1;33m,\u001b[0m \u001b[1;33m**\u001b[0m\u001b[0mkwargs\u001b[0m\u001b[1;33m)\u001b[0m\u001b[1;33m\u001b[0m\u001b[1;33m\u001b[0m\u001b[0m\n\u001b[0m\u001b[0;32m     21\u001b[0m \u001b[1;33m\u001b[0m\u001b[0m\n\u001b[0;32m     22\u001b[0m         \u001b[1;32mreturn\u001b[0m \u001b[0m_wrapper\u001b[0m\u001b[1;33m\u001b[0m\u001b[1;33m\u001b[0m\u001b[0m\n",
      "\u001b[1;32m~\\.conda\\envs\\dev\\lib\\site-packages\\eth_account\\account.py\u001b[0m in \u001b[0;36msign_transaction\u001b[1;34m(self, transaction_dict, private_key)\u001b[0m\n\u001b[0;32m    735\u001b[0m                 raise TypeError(\"from field must match key's %s, but it was %s\" % (\n\u001b[0;32m    736\u001b[0m                     \u001b[0maccount\u001b[0m\u001b[1;33m.\u001b[0m\u001b[0maddress\u001b[0m\u001b[1;33m,\u001b[0m\u001b[1;33m\u001b[0m\u001b[1;33m\u001b[0m\u001b[0m\n\u001b[1;32m--> 737\u001b[1;33m                     \u001b[0mtransaction_dict\u001b[0m\u001b[1;33m[\u001b[0m\u001b[1;34m'from'\u001b[0m\u001b[1;33m]\u001b[0m\u001b[1;33m,\u001b[0m\u001b[1;33m\u001b[0m\u001b[1;33m\u001b[0m\u001b[0m\n\u001b[0m\u001b[0;32m    738\u001b[0m                 ))\n\u001b[0;32m    739\u001b[0m         \u001b[1;32melse\u001b[0m\u001b[1;33m:\u001b[0m\u001b[1;33m\u001b[0m\u001b[1;33m\u001b[0m\u001b[0m\n",
      "\u001b[1;31mTypeError\u001b[0m: from field must match key's 0xC50dbc0BF9cD0419f1D21C7bb5d6799A44AAe66E, but it was 0x753f95da5E01A463c0952F81C3a4366e405019b1"
     ]
    }
   ],
   "source": [
    "# Create a signed transaction by passing the transaction object\n",
    "# into the signTransaction function\n",
    "signed_tx = account.signTransaction(raw_tx)"
   ]
  },
  {
   "cell_type": "code",
   "execution_count": null,
   "id": "45e40cd2-160b-4b6c-aefc-1dbc2fba8710",
   "metadata": {},
   "outputs": [],
   "source": []
  }
 ],
 "metadata": {
  "kernelspec": {
   "display_name": "Python 3 (ipykernel)",
   "language": "python",
   "name": "python3"
  },
  "language_info": {
   "codemirror_mode": {
    "name": "ipython",
    "version": 3
   },
   "file_extension": ".py",
   "mimetype": "text/x-python",
   "name": "python",
   "nbconvert_exporter": "python",
   "pygments_lexer": "ipython3",
   "version": "3.7.11"
  }
 },
 "nbformat": 4,
 "nbformat_minor": 5
}
