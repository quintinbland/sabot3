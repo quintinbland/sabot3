{
 "cells": [
  {
   "cell_type": "code",
   "execution_count": null,
   "id": "2bef38c7-4e48-4aba-87e4-d7e36646e227",
   "metadata": {},
   "outputs": [],
   "source": [
    "usdt_address = '0xdac17f958d2ee523a2206206994597c13d831ec7'\n",
    "susd_address = ''"
   ]
  }
 ],
 "metadata": {
  "kernelspec": {
   "display_name": "Python 3 (ipykernel)",
   "language": "python",
   "name": "python3"
  },
  "language_info": {
   "codemirror_mode": {
    "name": "ipython",
    "version": 3
   },
   "file_extension": ".py",
   "mimetype": "text/x-python",
   "name": "python",
   "nbconvert_exporter": "python",
   "pygments_lexer": "ipython3",
   "version": "3.7.13"
  }
 },
 "nbformat": 4,
 "nbformat_minor": 5
}
