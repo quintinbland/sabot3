{
 "cells": [
  {
   "cell_type": "markdown",
   "id": "789ba671-1238-4544-b28b-c1d21cdc64cf",
   "metadata": {},
   "source": [
    "# Manual Deployment of UUPS contracts for ownership by multisig vault\n",
    "\n",
    "## Motivation\n",
    "Tools like REMIX IDE and HardHat have plugins that automate and abstract the proxy contract creation and deployment.  This makes it hard to ensure that multisig vaults / wallets / contracts own the deployed assets.\n"
   ]
  },
  {
   "cell_type": "code",
   "execution_count": 1,
   "id": "b9098baf-9e13-4653-b863-4ad7ab1f2466",
   "metadata": {},
   "outputs": [],
   "source": [
    "import json\n",
    "import web3\n",
    "\n",
    "from web3 import Web3, HTTPProvider\n",
    "from solcx import compile_standard, install_solc\n",
    "from web3.contract import ConciseContract\n",
    "from pathlib import Path"
   ]
  },
  {
   "cell_type": "code",
   "execution_count": 2,
   "id": "889c11e0-2d0f-4ee4-bde8-ce2b534eab1a",
   "metadata": {},
   "outputs": [],
   "source": [
    "def get_contract_source(file_name):\n",
    "    with open(file_name) as f:\n",
    "        return f.read()"
   ]
  },
  {
   "cell_type": "code",
   "execution_count": 3,
   "id": "64ce4e97-d35e-4d56-a136-16f0325ef26d",
   "metadata": {},
   "outputs": [
    {
     "data": {
      "text/plain": [
       "Version('0.8.9')"
      ]
     },
     "execution_count": 3,
     "metadata": {},
     "output_type": "execute_result"
    }
   ],
   "source": [
    "# py-solc-x documentation at https://solcx.readthedocs.io/en/latest/using-the-compiler.html\n",
    "# good tutorial at https://coinsbench.com/how-to-compile-solidity-smart-contracts-with-python-98249cfc0879\n",
    "# Install Solidity compiler.\n",
    "_solc_version = \"0.8.9\"\n",
    "install_solc(_solc_version)"
   ]
  },
  {
   "cell_type": "code",
   "execution_count": 4,
   "id": "2659de9b-d72f-402e-b5cc-4f89b2c596b3",
   "metadata": {},
   "outputs": [],
   "source": [
    "oz_strings =  get_contract_source(Path('Contracts/openzeppelin/utils/Strings.sol'))\n",
    "oz_context =  get_contract_source(Path('Contracts/openzeppelin/utils/Context.sol'))\n",
    "oz_introspection_ierc165 =  get_contract_source(Path('Contracts/openzeppelin/utils/introspection/IERC165.sol'))\n",
    "oz_introspection_erc165 =  get_contract_source(Path('Contracts/openzeppelin/utils/introspection/ERC165.sol'))\n",
    "oz_i_access_control = get_contract_source(Path('Contracts/openzeppelin/access/IAccessControl.sol'))\n",
    "oz_access_control = get_contract_source(Path('Contracts/openzeppelin/access/AccessControl.sol'))\n",
    "oz_address = get_contract_source(Path('Contracts/openzeppelin/utils/Address.sol'))\n",
    "oz_initializable = get_contract_source(Path('Contracts/openzeppelin/proxy/utils/Initializable.sol'))\n",
    "oz_uups_upgradeable = get_contract_source(Path('Contracts/openzeppelin/proxy/utils/UUPSUpgradeable.sol'))\n",
    "oz_ierc1822 = get_contract_source(Path('Contracts/openzeppelin/interfaces/draft-IERC1822.sol'))\n",
    "oz_erc1967upgrade = get_contract_source(Path('Contracts/openzeppelin/proxy/ERC1967/ERC1967Upgrade.sol'))\n",
    "oz_beacon_ibeacon = get_contract_source(Path('Contracts/openzeppelin/proxy/beacon/IBeacon.sol'))\n",
    "oz_storage_slot = get_contract_source(Path('Contracts/openzeppelin/utils/StorageSlot.sol'))\n",
    "\n",
    "sabot_staking = get_contract_source(Path('Contracts/SabotStakingV1.sol'))\n",
    "\n"
   ]
  },
  {
   "cell_type": "code",
   "execution_count": 5,
   "id": "b6e582eb-0834-48e7-a1c6-547286c1a04e",
   "metadata": {},
   "outputs": [
    {
     "ename": "SolcError",
     "evalue": "DeclarationError: Identifier not found or not unique.\n   --> SabotStakingV1.sol:105:43:\n    |\n105 | contract SabotStakingV1 is Initializable, AccessControlUpgradeable, UUPSUpgradeable, SabotStakingBase{\n    |                                           ^^^^^^^^^^^^^^^^^^^^^^^^\n\n\n> command: `/Users/martinsmith/.solcx/solc-v0.8.9 --standard-json`\n> return code: `0`\n> stdout:\n{\"errors\":[{\"component\":\"general\",\"errorCode\":\"7920\",\"formattedMessage\":\"DeclarationError: Identifier not found or not unique.\\n   --> SabotStakingV1.sol:105:43:\\n    |\\n105 | contract SabotStakingV1 is Initializable, AccessControlUpgradeable, UUPSUpgradeable, SabotStakingBase{\\n    |                                           ^^^^^^^^^^^^^^^^^^^^^^^^\\n\\n\",\"message\":\"Identifier not found or not unique.\",\"severity\":\"error\",\"sourceLocation\":{\"end\":2945,\"file\":\"SabotStakingV1.sol\",\"start\":2921},\"type\":\"DeclarationError\"}],\"sources\":{\"SabotStakingV1.sol\":{\"id\":0},\"openzeppelin/access/AccessControl.sol\":{\"id\":1},\"openzeppelin/access/IAccessControl.sol\":{\"id\":2},\"openzeppelin/interfaces/draft-IERC1822.sol\":{\"id\":3},\"openzeppelin/proxy/ERC1967/ERC1967Upgrade.sol\":{\"id\":4},\"openzeppelin/proxy/beacon/IBeacon.sol\":{\"id\":5},\"openzeppelin/proxy/utils/Initializable.sol\":{\"id\":6},\"openzeppelin/proxy/utils/UUPSUpgradeable.sol\":{\"id\":7},\"openzeppelin/utils/Address.sol\":{\"id\":8},\"openzeppelin/utils/Context.sol\":{\"id\":9},\"openzeppelin/utils/StorageSlot.sol\":{\"id\":10},\"openzeppelin/utils/Strings.sol\":{\"id\":11},\"openzeppelin/utils/introspection/ERC165.sol\":{\"id\":12},\"openzeppelin/utils/introspection/IERC165.sol\":{\"id\":13}}}\n\n> stderr:",
     "output_type": "error",
     "traceback": [
      "\u001b[0;31m---------------------------------------------------------------------------\u001b[0m",
      "\u001b[0;31mSolcError\u001b[0m                                 Traceback (most recent call last)",
      "\u001b[0;32m/var/folders/yx/8jpzvpnn6xb6zbx8vdp2s9c00000gp/T/ipykernel_71146/3935279516.py\u001b[0m in \u001b[0;36m<module>\u001b[0;34m\u001b[0m\n\u001b[1;32m     28\u001b[0m         },\n\u001b[1;32m     29\u001b[0m     },\n\u001b[0;32m---> 30\u001b[0;31m     \u001b[0msolc_version\u001b[0m\u001b[0;34m=\u001b[0m\u001b[0m_solc_version\u001b[0m\u001b[0;34m,\u001b[0m\u001b[0;34m\u001b[0m\u001b[0;34m\u001b[0m\u001b[0m\n\u001b[0m\u001b[1;32m     31\u001b[0m )\n\u001b[1;32m     32\u001b[0m \u001b[0mprint\u001b[0m\u001b[0;34m(\u001b[0m\u001b[0mlogic_contract\u001b[0m\u001b[0;34m)\u001b[0m\u001b[0;34m\u001b[0m\u001b[0;34m\u001b[0m\u001b[0m\n",
      "\u001b[0;32m~/opt/anaconda3/envs/web3/lib/python3.7/site-packages/solcx/main.py\u001b[0m in \u001b[0;36mcompile_standard\u001b[0;34m(input_data, base_path, allow_paths, output_dir, overwrite, solc_binary, solc_version, allow_empty)\u001b[0m\n\u001b[1;32m    399\u001b[0m                 \u001b[0mstdout_data\u001b[0m\u001b[0;34m=\u001b[0m\u001b[0mstdoutdata\u001b[0m\u001b[0;34m,\u001b[0m\u001b[0;34m\u001b[0m\u001b[0;34m\u001b[0m\u001b[0m\n\u001b[1;32m    400\u001b[0m                 \u001b[0mstderr_data\u001b[0m\u001b[0;34m=\u001b[0m\u001b[0mstderrdata\u001b[0m\u001b[0;34m,\u001b[0m\u001b[0;34m\u001b[0m\u001b[0;34m\u001b[0m\u001b[0m\n\u001b[0;32m--> 401\u001b[0;31m                 \u001b[0merror_dict\u001b[0m\u001b[0;34m=\u001b[0m\u001b[0mcompiler_output\u001b[0m\u001b[0;34m[\u001b[0m\u001b[0;34m\"errors\"\u001b[0m\u001b[0;34m]\u001b[0m\u001b[0;34m,\u001b[0m\u001b[0;34m\u001b[0m\u001b[0;34m\u001b[0m\u001b[0m\n\u001b[0m\u001b[1;32m    402\u001b[0m             )\n\u001b[1;32m    403\u001b[0m     \u001b[0;32mreturn\u001b[0m \u001b[0mcompiler_output\u001b[0m\u001b[0;34m\u001b[0m\u001b[0;34m\u001b[0m\u001b[0m\n",
      "\u001b[0;31mSolcError\u001b[0m: DeclarationError: Identifier not found or not unique.\n   --> SabotStakingV1.sol:105:43:\n    |\n105 | contract SabotStakingV1 is Initializable, AccessControlUpgradeable, UUPSUpgradeable, SabotStakingBase{\n    |                                           ^^^^^^^^^^^^^^^^^^^^^^^^\n\n\n> command: `/Users/martinsmith/.solcx/solc-v0.8.9 --standard-json`\n> return code: `0`\n> stdout:\n{\"errors\":[{\"component\":\"general\",\"errorCode\":\"7920\",\"formattedMessage\":\"DeclarationError: Identifier not found or not unique.\\n   --> SabotStakingV1.sol:105:43:\\n    |\\n105 | contract SabotStakingV1 is Initializable, AccessControlUpgradeable, UUPSUpgradeable, SabotStakingBase{\\n    |                                           ^^^^^^^^^^^^^^^^^^^^^^^^\\n\\n\",\"message\":\"Identifier not found or not unique.\",\"severity\":\"error\",\"sourceLocation\":{\"end\":2945,\"file\":\"SabotStakingV1.sol\",\"start\":2921},\"type\":\"DeclarationError\"}],\"sources\":{\"SabotStakingV1.sol\":{\"id\":0},\"openzeppelin/access/AccessControl.sol\":{\"id\":1},\"openzeppelin/access/IAccessControl.sol\":{\"id\":2},\"openzeppelin/interfaces/draft-IERC1822.sol\":{\"id\":3},\"openzeppelin/proxy/ERC1967/ERC1967Upgrade.sol\":{\"id\":4},\"openzeppelin/proxy/beacon/IBeacon.sol\":{\"id\":5},\"openzeppelin/proxy/utils/Initializable.sol\":{\"id\":6},\"openzeppelin/proxy/utils/UUPSUpgradeable.sol\":{\"id\":7},\"openzeppelin/utils/Address.sol\":{\"id\":8},\"openzeppelin/utils/Context.sol\":{\"id\":9},\"openzeppelin/utils/StorageSlot.sol\":{\"id\":10},\"openzeppelin/utils/Strings.sol\":{\"id\":11},\"openzeppelin/utils/introspection/ERC165.sol\":{\"id\":12},\"openzeppelin/utils/introspection/IERC165.sol\":{\"id\":13}}}\n\n> stderr:"
     ]
    }
   ],
   "source": [
    "# compile the logic contract\n",
    "# Compile SimpleStorage smart contract with solcx.\n",
    "\n",
    "\n",
    "logic_contract = compile_standard(\n",
    "    {\n",
    "        \"language\": \"Solidity\",\n",
    "        \"sources\": {\n",
    "            'openzeppelin/utils/Strings.sol':{\"content\": oz_strings},\n",
    "            'openzeppelin/utils/Context.sol':{\"content\": oz_context},\n",
    "            'openzeppelin/utils/introspection/IERC165.sol':{\"content\": oz_introspection_ierc165},\n",
    "            'openzeppelin/utils/introspection/ERC165.sol':{\"content\": oz_introspection_erc165},\n",
    "            'openzeppelin/access/IAccessControl.sol':{\"content\": oz_i_access_control},\n",
    "            'openzeppelin/access/AccessControl.sol':{\"content\": oz_access_control},\n",
    "            'openzeppelin/utils/Address.sol':{\"content\": oz_address},\n",
    "            'openzeppelin/proxy/utils/Initializable.sol':{\"content\": oz_initializable},\n",
    "            'openzeppelin/interfaces/draft-IERC1822.sol':{\"content\": oz_ierc1822},\n",
    "            'openzeppelin/proxy/beacon/IBeacon.sol':{\"content\": oz_beacon_ibeacon},\n",
    "            'openzeppelin/utils/StorageSlot.sol':{\"content\": oz_storage_slot},\n",
    "            'openzeppelin/proxy/ERC1967/ERC1967Upgrade.sol':{\"content\": oz_erc1967upgrade},\n",
    "            'openzeppelin/proxy/utils/UUPSUpgradeable.sol':{\"content\": oz_uups_upgradeable},\n",
    "            'SabotStakingV1.sol': {\"content\": sabot_staking}\n",
    "        },\n",
    "        \"settings\": {\n",
    "            \"outputSelection\": {\n",
    "                \"*\": {\"*\": [\"abi\", \"metadata\", \"evm.bytecode\", \"evm.sourceMap\"]}\n",
    "            }\n",
    "        },\n",
    "    },\n",
    "    solc_version=_solc_version,\n",
    ")\n",
    "print(logic_contract)"
   ]
  },
  {
   "cell_type": "code",
   "execution_count": null,
   "id": "f204bfab-a9e1-4991-b31e-8076d3c7962e",
   "metadata": {},
   "outputs": [],
   "source": []
  }
 ],
 "metadata": {
  "kernelspec": {
   "display_name": "Python 3 (ipykernel)",
   "language": "python",
   "name": "python3"
  },
  "language_info": {
   "codemirror_mode": {
    "name": "ipython",
    "version": 3
   },
   "file_extension": ".py",
   "mimetype": "text/x-python",
   "name": "python",
   "nbconvert_exporter": "python",
   "pygments_lexer": "ipython3",
   "version": "3.7.13"
  }
 },
 "nbformat": 4,
 "nbformat_minor": 5
}
