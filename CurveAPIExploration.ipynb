{
 "cells": [
  {
   "cell_type": "code",
   "execution_count": 1,
   "id": "7fa6895e-450c-4d65-af23-7946a15127d2",
   "metadata": {},
   "outputs": [],
   "source": [
    "import requests\n",
    "import json"
   ]
  },
  {
   "cell_type": "code",
   "execution_count": 4,
   "id": "a8e0d1a6-d11d-40f0-bbcb-23c4b01c6602",
   "metadata": {},
   "outputs": [],
   "source": [
    "url = 'https://api.curve.fi/api/getPools/ethereum/main'\n",
    "response = requests.get(url)\n",
    "# print(response.text)\n",
    "data = response.json()"
   ]
  },
  {
   "cell_type": "code",
   "execution_count": 13,
   "id": "e0715cc3-4e6d-4ede-9299-ae41b43a1702",
   "metadata": {},
   "outputs": [
    {
     "name": "stdout",
     "output_type": "stream",
     "text": [
      "curve on eth has 45 pools\n",
      "found a sUSD pool: {'id': '15', 'address': '0xA5407eAE9Ba41422680e2e00537571bcC53efBfD', 'coinsAddresses': ['0x6B175474E89094C44Da98b954EedeAC495271d0F', '0xA0b86991c6218b36c1d19D4a2e9Eb0cE3606eB48', '0xdAC17F958D2ee523a2206206994597C13D831ec7', '0x57Ab1ec28D129707052df4dF418D58a2D46d5f51'], 'decimals': ['18', '6', '6', '18'], 'underlyingDecimals': ['18', '6', '6', '18', '0', '0', '0', '0'], 'assetType': '0', 'totalSupply': '114705783816978720126275467', 'lpTokenAddress': '0xc25a3a3b969415c80451098fa907ec722572917f', 'name': 'Curve.fi DAI/USDC/USDT/sUSD', 'symbol': 'crvPlain3andSUSD', 'priceOracle': 0, 'implementation': '', 'assetTypeName': 'usd', 'coins': [{'address': '0x6B175474E89094C44Da98b954EedeAC495271d0F', 'usdPrice': 0.999152, 'decimals': '18', 'isBasePoolLpToken': False, 'symbol': 'DAI', 'poolBalance': '34430184110214549464825949'}, {'address': '0xA0b86991c6218b36c1d19D4a2e9Eb0cE3606eB48', 'usdPrice': 1, 'decimals': '6', 'isBasePoolLpToken': False, 'symbol': 'USDC', 'poolBalance': '34461524884086'}, {'address': '0xdAC17F958D2ee523a2206206994597C13D831ec7', 'usdPrice': 0.999916, 'decimals': '6', 'isBasePoolLpToken': False, 'symbol': 'USDT', 'poolBalance': '34891857162096'}, {'address': '0x57Ab1ec28D129707052df4dF418D58a2D46d5f51', 'usdPrice': 1.0085546235779335, 'decimals': '18', 'isBasePoolLpToken': False, 'symbol': 'sUSD', 'poolBalance': '17502880028632553716458090'}], 'usdTotal': 121404049.02307668, 'isMetaPool': False, 'usdTotalExcludingBasePool': 121404049.02307668, 'gaugeAddress': '0xa90996896660decc6e997655e065b23788857849'}\n"
     ]
    }
   ],
   "source": [
    "if 'success' in data and data['success']:\n",
    "    if 'data' in data and 'poolData' in data['data']:\n",
    "        all_pools = data['data']['poolData']\n",
    "        print(f\"curve on eth has {len(all_pools)} pools\")\n",
    "        for pool in all_pools:\n",
    "            for coin in pool['coins']:\n",
    "                if coin['symbol'].strip().lower() == 'susd':\n",
    "                    print(f\"found a sUSD pool: {pool}\")"
   ]
  },
  {
   "cell_type": "code",
   "execution_count": null,
   "id": "ac593771-f5b9-4da6-b6d9-61e4dac2d5ae",
   "metadata": {},
   "outputs": [],
   "source": []
  }
 ],
 "metadata": {
  "kernelspec": {
   "display_name": "Python 3 (ipykernel)",
   "language": "python",
   "name": "python3"
  },
  "language_info": {
   "codemirror_mode": {
    "name": "ipython",
    "version": 3
   },
   "file_extension": ".py",
   "mimetype": "text/x-python",
   "name": "python",
   "nbconvert_exporter": "python",
   "pygments_lexer": "ipython3",
   "version": "3.7.13"
  }
 },
 "nbformat": 4,
 "nbformat_minor": 5
}
